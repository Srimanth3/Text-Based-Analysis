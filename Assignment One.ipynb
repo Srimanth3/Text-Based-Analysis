{
 "cells": [
  {
   "cell_type": "markdown",
   "id": "fd155081",
   "metadata": {},
   "source": [
    "# **Basic String Operations Assignment One 0n 01-17-2024**"
   ]
  },
  {
   "cell_type": "code",
   "execution_count": 1,
   "id": "9f525025-6235-4636-95b9-1742af6b0a62",
   "metadata": {},
   "outputs": [
    {
     "name": "stdout",
     "output_type": "stream",
     "text": [
      "Srimanth\n"
     ]
    }
   ],
   "source": [
    "# Printing a Variable\n",
    "a=\"Srimanth\"\n",
    "print(a)"
   ]
  },
  {
   "cell_type": "markdown",
   "id": "08eda111",
   "metadata": {},
   "source": [
    "## **String Slicing**"
   ]
  },
  {
   "cell_type": "markdown",
   "id": "0254da04",
   "metadata": {},
   "source": [
    "### **Printing a Certain Element**"
   ]
  },
  {
   "cell_type": "code",
   "execution_count": 4,
   "id": "3aa0c17a",
   "metadata": {},
   "outputs": [
    {
     "name": "stdout",
     "output_type": "stream",
     "text": [
      "r\n",
      "ima\n",
      "y\n"
     ]
    }
   ],
   "source": [
    "# Printing a Certain Letter from the String\n",
    "a=\"Srimanth Reddy\""
   ]
  },
  {
   "cell_type": "markdown",
   "id": "fff143c8",
   "metadata": {},
   "source": [
    "### **Printing Certain Words from String**"
   ]
  },
  {
   "cell_type": "code",
   "execution_count": 5,
   "id": "b878b39d",
   "metadata": {},
   "outputs": [
    {
     "name": "stdout",
     "output_type": "stream",
     "text": [
      "ima\n"
     ]
    }
   ],
   "source": [
    "a=\"Srimanth Reddy\"\n",
    "print(a[2:5]) # Printing letters from Index 2(including ) to 5(excluding)"
   ]
  },
  {
   "cell_type": "markdown",
   "id": "8548f94e",
   "metadata": {},
   "source": [
    "### **Printing Letters From Backward of a String**"
   ]
  },
  {
   "cell_type": "code",
   "execution_count": 6,
   "id": "4345cf83",
   "metadata": {},
   "outputs": [
    {
     "name": "stdout",
     "output_type": "stream",
     "text": [
      "y\n"
     ]
    }
   ],
   "source": [
    "a=\"Srimanth Reddy\"\n",
    "print(a[-1]) # We use negative Index to Print String from Backward"
   ]
  },
  {
   "cell_type": "markdown",
   "id": "e3600ee4",
   "metadata": {},
   "source": [
    "### **Printing Lenght of a String**"
   ]
  },
  {
   "cell_type": "code",
   "execution_count": 7,
   "id": "97e50659-7fda-4bc4-8778-8f762a3652a0",
   "metadata": {},
   "outputs": [
    {
     "name": "stdout",
     "output_type": "stream",
     "text": [
      "19\n"
     ]
    }
   ],
   "source": [
    "a=\"My Name is Srimanth\"\n",
    "#Finding the Length of a String\n",
    "print(len(a))"
   ]
  },
  {
   "cell_type": "markdown",
   "id": "8dc66de7",
   "metadata": {},
   "source": [
    "### **Replacing elements in String**"
   ]
  },
  {
   "cell_type": "code",
   "execution_count": 8,
   "id": "e9dd5a16",
   "metadata": {},
   "outputs": [
    {
     "name": "stdout",
     "output_type": "stream",
     "text": [
      "My Namj is Srimanth\n",
      "My Name is Srimanth\n"
     ]
    }
   ],
   "source": [
    "# Replacing e with j\n",
    "print(a.replace(\"e\",\"j\")) # Printing Replaced String \n",
    "print(a) # Printing the Original String "
   ]
  },
  {
   "cell_type": "markdown",
   "id": "47f6bc66",
   "metadata": {},
   "source": [
    "### **Changing String into LowerCase**"
   ]
  },
  {
   "cell_type": "code",
   "execution_count": 9,
   "id": "4f81279b",
   "metadata": {},
   "outputs": [
    {
     "name": "stdout",
     "output_type": "stream",
     "text": [
      "change me into lower case\n"
     ]
    }
   ],
   "source": [
    "# Changing String into lower Case\n",
    "a=\"CHAnge me INto LOwer CAse\"\n",
    "print(a.lower())\n"
   ]
  },
  {
   "cell_type": "markdown",
   "id": "0dcc38ba",
   "metadata": {},
   "source": [
    "### **Chaning String into UpperCase**"
   ]
  },
  {
   "cell_type": "code",
   "execution_count": 10,
   "id": "ea30747d",
   "metadata": {},
   "outputs": [
    {
     "name": "stdout",
     "output_type": "stream",
     "text": [
      "TRY CHANGING ME INTO UPPER CASE\n"
     ]
    }
   ],
   "source": [
    "# Changing String  into Upper Case  \n",
    "a=\"Try changing me into upper case\"\n",
    "print(a.upper())"
   ]
  },
  {
   "cell_type": "markdown",
   "id": "9fc382f0",
   "metadata": {},
   "source": [
    "## **String Searching**"
   ]
  },
  {
   "cell_type": "code",
   "execution_count": 28,
   "id": "c8fbd10a",
   "metadata": {},
   "outputs": [
    {
     "name": "stdout",
     "output_type": "stream",
     "text": [
      "True\n"
     ]
    }
   ],
   "source": [
    "# Checking Weather the String Ends with d\n",
    "a=\"Hellow,world\"\n",
    "print(a.endswith(\"d\"))"
   ]
  },
  {
   "cell_type": "code",
   "execution_count": 29,
   "id": "07f84373",
   "metadata": {},
   "outputs": [
    {
     "name": "stdout",
     "output_type": "stream",
     "text": [
      "1\n"
     ]
    }
   ],
   "source": [
    "# Searching for Substring within the string \n",
    "print(a.find(\"ello\"))"
   ]
  },
  {
   "cell_type": "markdown",
   "id": "a0d4dd2d",
   "metadata": {},
   "source": [
    "### **String Concatenation**"
   ]
  },
  {
   "cell_type": "code",
   "execution_count": 11,
   "id": "981c96ce-7364-4c70-8950-067e36b34802",
   "metadata": {},
   "outputs": [
    {
     "name": "stdout",
     "output_type": "stream",
     "text": [
      "My Name is Srimanth Reddy\n"
     ]
    }
   ],
   "source": [
    "# String Concatenation\n",
    "a=\"My Name is Srimanth\"\n",
    "b=\"Reddy\"\n",
    "c=a+\" \"+b\n",
    "print(c)"
   ]
  },
  {
   "cell_type": "markdown",
   "id": "79463298",
   "metadata": {},
   "source": [
    "## **String Spliting**"
   ]
  },
  {
   "cell_type": "code",
   "execution_count": 31,
   "id": "580755f0-562e-45f3-8940-509e5a04cad7",
   "metadata": {},
   "outputs": [
    {
     "data": {
      "text/plain": [
       "['one', 'two', 'three', 'four']"
      ]
     },
     "execution_count": 31,
     "metadata": {},
     "output_type": "execute_result"
    }
   ],
   "source": [
    "my_string=\"one two three four\"\n",
    "## Spliting based on Space and Converting it into list.\n",
    "my_list=my_string.split()\n",
    "my_list"
   ]
  },
  {
   "cell_type": "markdown",
   "id": "3dadc7bb",
   "metadata": {},
   "source": [
    "### **Practise Examples**"
   ]
  },
  {
   "cell_type": "markdown",
   "id": "ceacce4b",
   "metadata": {},
   "source": [
    "### **Spliting a String based on '/'**"
   ]
  },
  {
   "cell_type": "code",
   "execution_count": 32,
   "id": "2903e7c0-2a2c-4d1c-9b8c-3634a77baa7e",
   "metadata": {},
   "outputs": [
    {
     "data": {
      "text/plain": [
       "['1', '2', '3', '4', '5']"
      ]
     },
     "execution_count": 32,
     "metadata": {},
     "output_type": "execute_result"
    }
   ],
   "source": [
    "my_string=\"1/2/3/4/5\"\n",
    "# Spliting a String based on '/'\n",
    "my_list=my_string.split('/')\n",
    "my_list"
   ]
  },
  {
   "cell_type": "markdown",
   "id": "eff04dbe",
   "metadata": {},
   "source": [
    "### **Spliting a String based on '-'**"
   ]
  },
  {
   "cell_type": "code",
   "execution_count": 33,
   "id": "2ac1f6d9-c67f-4d53-a4ce-95b5b20b41d9",
   "metadata": {},
   "outputs": [
    {
     "data": {
      "text/plain": [
       "['1', '2', '3', '4', '5']"
      ]
     },
     "execution_count": 33,
     "metadata": {},
     "output_type": "execute_result"
    }
   ],
   "source": [
    "my_string=\"1-2-3-4-5\"\n",
    "# Spliting a String based on '-'\n",
    "my_list=my_string.split('-')\n",
    "my_list"
   ]
  },
  {
   "cell_type": "markdown",
   "id": "42cd75a8",
   "metadata": {},
   "source": [
    "### **Spliting a String based on '.'**"
   ]
  },
  {
   "cell_type": "code",
   "execution_count": 34,
   "id": "d2a9a593-50da-4efb-8e6e-dfc42091b77e",
   "metadata": {},
   "outputs": [
    {
     "data": {
      "text/plain": [
       "['1', '2', '3', '4', '5']"
      ]
     },
     "execution_count": 34,
     "metadata": {},
     "output_type": "execute_result"
    }
   ],
   "source": [
    "my_string=\"1.2.3.4.5\"\n",
    "# Spliting a String based on '.'\n",
    "my_list=my_string.split('.')\n",
    "my_list"
   ]
  },
  {
   "cell_type": "markdown",
   "id": "460924b4",
   "metadata": {},
   "source": [
    "### **Spliting a String based on Space**"
   ]
  },
  {
   "cell_type": "code",
   "execution_count": 35,
   "id": "6ca53a7b-bcc7-409c-b1d9-05154420ad29",
   "metadata": {},
   "outputs": [
    {
     "data": {
      "text/plain": [
       "['peach', 'raspberry', 'strawberry', 'vanilla']"
      ]
     },
     "execution_count": 35,
     "metadata": {},
     "output_type": "execute_result"
    }
   ],
   "source": [
    "# Spliting a String based on Space\n",
    "my_string=\"peach raspberry strawberry vanilla\"\n",
    "my_list=my_string.split()\n",
    "my_list"
   ]
  },
  {
   "cell_type": "markdown",
   "id": "89b8311d",
   "metadata": {},
   "source": [
    "### **Spliting a String based on ','**"
   ]
  },
  {
   "cell_type": "code",
   "execution_count": 36,
   "id": "ed32439c-5b61-43cb-9f7f-72191efbcfe5",
   "metadata": {},
   "outputs": [
    {
     "data": {
      "text/plain": [
       "['peach', 'raspberry', 'strawberry', 'vanilla']"
      ]
     },
     "execution_count": 36,
     "metadata": {},
     "output_type": "execute_result"
    }
   ],
   "source": [
    "# Spliting a String based on ','\n",
    "my_string=\"peach,raspberry,strawberry,vanilla\"\n",
    "\n",
    "my_list=my_string.split(',')\n",
    "my_list"
   ]
  },
  {
   "cell_type": "markdown",
   "id": "9f7e4291",
   "metadata": {},
   "source": [
    "### **Spliting a String based on ';'**"
   ]
  },
  {
   "cell_type": "code",
   "execution_count": 37,
   "id": "a9dd5567-f882-4aad-af28-c2c411482571",
   "metadata": {},
   "outputs": [
    {
     "data": {
      "text/plain": [
       "['17', '92', '81', '12', '46', '5']"
      ]
     },
     "execution_count": 37,
     "metadata": {},
     "output_type": "execute_result"
    }
   ],
   "source": [
    "my_string=\"17;92;81;12;46;5\"\n",
    "# Spliting a String based on ';'\n",
    "my_list=my_string.split(';')\n",
    "my_list"
   ]
  },
  {
   "cell_type": "markdown",
   "id": "82a7d121",
   "metadata": {},
   "source": [
    "### **Removing spaces**"
   ]
  },
  {
   "cell_type": "code",
   "execution_count": 38,
   "id": "63090ba2-99dd-4262-ac66-69e55a1a64dd",
   "metadata": {},
   "outputs": [
    {
     "name": "stdout",
     "output_type": "stream",
     "text": [
      "Hello  w, world\n",
      " Hello  w, world\n"
     ]
    }
   ],
   "source": [
    "a=\" Hello  w, world  \"\n",
    "# Removing spaces \n",
    "print(a.strip())\n",
    "print(a.rstrip())"
   ]
  },
  {
   "cell_type": "markdown",
   "id": "186315b9",
   "metadata": {},
   "source": [
    "## **String Methods**"
   ]
  },
  {
   "cell_type": "code",
   "execution_count": 39,
   "id": "77376cd4-4a74-4938-adcd-e8f784019fa2",
   "metadata": {},
   "outputs": [
    {
     "name": "stdout",
     "output_type": "stream",
     "text": [
      "Hello  w, world  \n"
     ]
    }
   ],
   "source": [
    "a=\" Hello  w, world  \"\n",
    "# Removing left leading Spaces\n",
    "print(a.lstrip())"
   ]
  },
  {
   "cell_type": "code",
   "execution_count": 40,
   "id": "c6fad194-bd8c-44af-839a-496d77c119b5",
   "metadata": {},
   "outputs": [
    {
     "name": "stdout",
     "output_type": "stream",
     "text": [
      "Hello  w, world--\n"
     ]
    }
   ],
   "source": [
    "a=\"--Hello  w, world--\"\n",
    "# Removing left leading --\n",
    "print(a.lstrip('-'))"
   ]
  },
  {
   "cell_type": "code",
   "execution_count": 41,
   "id": "1a5e8d17-ea4d-480e-acee-6a1ac69bc4b3",
   "metadata": {},
   "outputs": [
    {
     "name": "stdout",
     "output_type": "stream",
     "text": [
      "--Hello  w, world\n"
     ]
    }
   ],
   "source": [
    "a=\"--Hello  w, world--\"\n",
    "# Removing right leading --\n",
    "print(a.rstrip('-'))"
   ]
  },
  {
   "cell_type": "code",
   "execution_count": 42,
   "id": "d44100ce-71b8-4b28-a91e-17ffd05375c2",
   "metadata": {},
   "outputs": [
    {
     "name": "stdout",
     "output_type": "stream",
     "text": [
      "Hello  w, world\n"
     ]
    }
   ],
   "source": [
    "a=\"--Hello  w, world--\"\n",
    "# Removing - from the Entire String\n",
    "print(a.strip('-'))"
   ]
  },
  {
   "cell_type": "markdown",
   "id": "6b44874f",
   "metadata": {},
   "source": [
    "### **Checking  a String is Numeric or Not**"
   ]
  },
  {
   "cell_type": "code",
   "execution_count": 43,
   "id": "2692bc29-f3b1-4251-95f9-4b7dfa831585",
   "metadata": {},
   "outputs": [
    {
     "name": "stdout",
     "output_type": "stream",
     "text": [
      "True\n"
     ]
    }
   ],
   "source": [
    "a='112'\n",
    "# Checking Weather given String is Numeric\n",
    "print(a.isdigit())"
   ]
  },
  {
   "cell_type": "code",
   "execution_count": 44,
   "id": "a22d92ae-93e3-47d5-9d38-a07d522619a5",
   "metadata": {},
   "outputs": [
    {
     "name": "stdout",
     "output_type": "stream",
     "text": [
      "True\n",
      "True\n",
      "False\n"
     ]
    }
   ],
   "source": [
    "a=\"Kamla\"\n",
    "## Cheacking weather given variable is numeric and alphabetical\n",
    "print(a.isalnum())  \n",
    "print(a.isalpha()) ## checking given variable is alphabetic\n",
    "print(a.isupper()) ## prints true if the variable has all upper case."
   ]
  },
  {
   "cell_type": "markdown",
   "id": "0fc5daea",
   "metadata": {},
   "source": [
    "## **Python RegEx**"
   ]
  },
  {
   "cell_type": "markdown",
   "id": "332d4817",
   "metadata": {},
   "source": [
    "### **RegEx Module**"
   ]
  },
  {
   "cell_type": "code",
   "execution_count": 12,
   "id": "1cb07265",
   "metadata": {},
   "outputs": [],
   "source": [
    "import re"
   ]
  },
  {
   "cell_type": "markdown",
   "id": "cbc3dd63",
   "metadata": {},
   "source": [
    "### **Find All Function**"
   ]
  },
  {
   "cell_type": "code",
   "execution_count": 13,
   "id": "f07cf7af",
   "metadata": {},
   "outputs": [
    {
     "name": "stdout",
     "output_type": "stream",
     "text": [
      "['ai']\n"
     ]
    }
   ],
   "source": [
    "txt = \"It Is Raining Outside\" \n",
    "x = re.findall(\"ai\", txt) # Print LIst of All Matches\n",
    "print(x)"
   ]
  },
  {
   "cell_type": "markdown",
   "id": "1478a577",
   "metadata": {},
   "source": [
    "### **Search Function**"
   ]
  },
  {
   "cell_type": "code",
   "execution_count": 15,
   "id": "45c78690",
   "metadata": {},
   "outputs": [
    {
     "name": "stdout",
     "output_type": "stream",
     "text": [
      "<re.Match object; span=(14, 21), match='Outside'>\n"
     ]
    }
   ],
   "source": [
    "txt = \"It Is Raining Outside\"\n",
    "x = re.search(\"Outside\", txt)\n",
    "print(x)\n"
   ]
  },
  {
   "cell_type": "markdown",
   "id": "6523466e",
   "metadata": {},
   "source": [
    "### **Split Function**"
   ]
  },
  {
   "cell_type": "code",
   "execution_count": 16,
   "id": "9bdacb0b",
   "metadata": {},
   "outputs": [
    {
     "name": "stdout",
     "output_type": "stream",
     "text": [
      "['I', 'am', 'Going', 'to', 'School']\n"
     ]
    },
    {
     "name": "stderr",
     "output_type": "stream",
     "text": [
      "<>:2: SyntaxWarning: invalid escape sequence '\\s'\n",
      "<>:2: SyntaxWarning: invalid escape sequence '\\s'\n",
      "C:\\Users\\srima\\AppData\\Local\\Temp\\ipykernel_39548\\581494404.py:2: SyntaxWarning: invalid escape sequence '\\s'\n",
      "  x = re.split(\"\\s\", txt)\n"
     ]
    }
   ],
   "source": [
    "txt = \"I am Going to School\" \n",
    "x = re.split(\"\\s\", txt) # Split String After Every White Space.\n",
    "print(x)"
   ]
  },
  {
   "cell_type": "code",
   "execution_count": 17,
   "id": "a9109202",
   "metadata": {},
   "outputs": [
    {
     "name": "stdout",
     "output_type": "stream",
     "text": [
      "['The', 'rain in Spain']\n"
     ]
    },
    {
     "name": "stderr",
     "output_type": "stream",
     "text": [
      "<>:2: SyntaxWarning: invalid escape sequence '\\s'\n",
      "<>:2: SyntaxWarning: invalid escape sequence '\\s'\n",
      "C:\\Users\\srima\\AppData\\Local\\Temp\\ipykernel_39548\\1541237411.py:2: SyntaxWarning: invalid escape sequence '\\s'\n",
      "  x = re.split(\"\\s\", txt, 1) # Split String At First Occurance\n"
     ]
    }
   ],
   "source": [
    "txt = \"The rain in Spain\"\n",
    "x = re.split(\"\\s\", txt, 1) # Split String At First Occurance\n",
    "print(x)"
   ]
  },
  {
   "cell_type": "markdown",
   "id": "0fb2ba32",
   "metadata": {},
   "source": [
    "### **Sub Function**"
   ]
  },
  {
   "cell_type": "code",
   "execution_count": 18,
   "id": "3e178fa2",
   "metadata": {},
   "outputs": [
    {
     "name": "stdout",
     "output_type": "stream",
     "text": [
      "I9am9drinking\n"
     ]
    },
    {
     "name": "stderr",
     "output_type": "stream",
     "text": [
      "<>:2: SyntaxWarning: invalid escape sequence '\\s'\n",
      "<>:2: SyntaxWarning: invalid escape sequence '\\s'\n",
      "C:\\Users\\srima\\AppData\\Local\\Temp\\ipykernel_39548\\4110666272.py:2: SyntaxWarning: invalid escape sequence '\\s'\n",
      "  x = re.sub(\"\\s\", \"9\", txt) #Replace WhiteSpaces With 9\n"
     ]
    }
   ],
   "source": [
    "txt = \"I am drinking\"\n",
    "x = re.sub(\"\\s\", \"9\", txt) #Replace WhiteSpaces With 9\n",
    "print(x)"
   ]
  },
  {
   "cell_type": "markdown",
   "id": "16b0ce77",
   "metadata": {},
   "source": [
    "## **Metacharacters**"
   ]
  },
  {
   "cell_type": "markdown",
   "id": "0ab83665",
   "metadata": {},
   "source": [
    "### **[] Character**"
   ]
  },
  {
   "cell_type": "code",
   "execution_count": 19,
   "id": "26c9d79b",
   "metadata": {},
   "outputs": [
    {
     "name": "stdout",
     "output_type": "stream",
     "text": [
      "['m', 'l', 'e', 'e', 'i', 'g']\n"
     ]
    }
   ],
   "source": [
    "txt = \"I Am Sleeping\"\n",
    "#Find all lower case characters alphabetically between \"a\" and \"m\":\n",
    "x = re.findall(\"[a-m]\", txt)\n",
    "print(x)\n"
   ]
  },
  {
   "cell_type": "markdown",
   "id": "214977e8",
   "metadata": {},
   "source": [
    "### **^ Character**"
   ]
  },
  {
   "cell_type": "code",
   "execution_count": 20,
   "id": "ee7a4f00",
   "metadata": {},
   "outputs": [
    {
     "name": "stdout",
     "output_type": "stream",
     "text": [
      "Yes, the string starts with 'hello'\n"
     ]
    }
   ],
   "source": [
    "txt = \"hello World\"\n",
    "#Check if the string starts with 'hello':\n",
    "x = re.findall(\"^hello\", txt)\n",
    "if x:\n",
    "  print(\"Yes, the string starts with 'hello'\")\n",
    "else:\n",
    "  print(\"No match\")"
   ]
  },
  {
   "cell_type": "markdown",
   "id": "93d6731a",
   "metadata": {},
   "source": [
    "### **$ Character**"
   ]
  },
  {
   "cell_type": "code",
   "execution_count": 21,
   "id": "28e04ac1",
   "metadata": {},
   "outputs": [
    {
     "name": "stdout",
     "output_type": "stream",
     "text": [
      "Yes, the string ends with 'planet'\n"
     ]
    }
   ],
   "source": [
    "txt = \"hello planet\"\n",
    "#Check if the string ends with 'planet':\n",
    "x = re.findall(\"planet$\", txt)\n",
    "if x:\n",
    "  print(\"Yes, the string ends with 'planet'\")\n",
    "else:\n",
    "  print(\"No match\")\n"
   ]
  },
  {
   "cell_type": "markdown",
   "id": "dcb128c5",
   "metadata": {},
   "source": [
    "### **\\ Character**"
   ]
  },
  {
   "cell_type": "code",
   "execution_count": 22,
   "id": "f7e9c8f2",
   "metadata": {},
   "outputs": [
    {
     "name": "stdout",
     "output_type": "stream",
     "text": [
      "['5', '9']\n"
     ]
    },
    {
     "name": "stderr",
     "output_type": "stream",
     "text": [
      "<>:3: SyntaxWarning: invalid escape sequence '\\d'\n",
      "<>:3: SyntaxWarning: invalid escape sequence '\\d'\n",
      "C:\\Users\\srima\\AppData\\Local\\Temp\\ipykernel_39548\\219400433.py:3: SyntaxWarning: invalid escape sequence '\\d'\n",
      "  x = re.findall(\"\\d\", txt)\n"
     ]
    }
   ],
   "source": [
    "txt = \"That will be 59 dollars\"\n",
    "#Find all digit characters:\n",
    "x = re.findall(\"\\d\", txt)\n",
    "print(x)"
   ]
  }
 ],
 "metadata": {
  "kernelspec": {
   "display_name": "Python 3 (ipykernel)",
   "language": "python",
   "name": "python3"
  },
  "language_info": {
   "codemirror_mode": {
    "name": "ipython",
    "version": 3
   },
   "file_extension": ".py",
   "mimetype": "text/x-python",
   "name": "python",
   "nbconvert_exporter": "python",
   "pygments_lexer": "ipython3",
   "version": "3.12.1"
  }
 },
 "nbformat": 4,
 "nbformat_minor": 5
}
