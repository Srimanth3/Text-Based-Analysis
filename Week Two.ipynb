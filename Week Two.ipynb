{
 "cells": [
  {
   "cell_type": "markdown",
   "id": "fd155081",
   "metadata": {},
   "source": [
    "# **Basic String Operations ClassWork 0n 01-17-2024**"
   ]
  },
  {
   "cell_type": "code",
   "execution_count": 3,
   "id": "9f525025-6235-4636-95b9-1742af6b0a62",
   "metadata": {},
   "outputs": [
    {
     "name": "stdout",
     "output_type": "stream",
     "text": [
      "hello\n"
     ]
    }
   ],
   "source": [
    "# Printing a Variable\n",
    "a=\"hello\"\n",
    "print(a)"
   ]
  },
  {
   "cell_type": "markdown",
   "id": "08eda111",
   "metadata": {},
   "source": [
    "## **String Slicing**"
   ]
  },
  {
   "cell_type": "markdown",
   "id": "0254da04",
   "metadata": {},
   "source": [
    "### **Printing a Certain Element**"
   ]
  },
  {
   "cell_type": "code",
   "execution_count": 4,
   "id": "3aa0c17a",
   "metadata": {},
   "outputs": [
    {
     "name": "stdout",
     "output_type": "stream",
     "text": [
      "e\n",
      "llo\n"
     ]
    }
   ],
   "source": [
    "# Printing a Certain Letter from the String\n",
    "a=\"hellow,world\"\n",
    "print(a[1])\n",
    "print(a[2:5])"
   ]
  },
  {
   "cell_type": "markdown",
   "id": "e3600ee4",
   "metadata": {},
   "source": [
    "### **Printing Lenght of a String**"
   ]
  },
  {
   "cell_type": "code",
   "execution_count": 5,
   "id": "97e50659-7fda-4bc4-8778-8f762a3652a0",
   "metadata": {},
   "outputs": [
    {
     "name": "stdout",
     "output_type": "stream",
     "text": [
      "12\n"
     ]
    }
   ],
   "source": [
    "a=\"Hellow,world\"\n",
    "#Finding the Length of a String\n",
    "print(len(a))"
   ]
  },
  {
   "cell_type": "markdown",
   "id": "8dc66de7",
   "metadata": {},
   "source": [
    "### **Replacing elements in String**"
   ]
  },
  {
   "cell_type": "code",
   "execution_count": 6,
   "id": "e9dd5a16",
   "metadata": {},
   "outputs": [
    {
     "name": "stdout",
     "output_type": "stream",
     "text": [
      "Hjllow,world\n",
      "Hellow,world\n"
     ]
    }
   ],
   "source": [
    "# Replacing e with j\n",
    "print(a.replace(\"e\",\"j\"))\n",
    "print(a)"
   ]
  },
  {
   "cell_type": "markdown",
   "id": "47f6bc66",
   "metadata": {},
   "source": [
    "### **Changing String into LowerCase**"
   ]
  },
  {
   "cell_type": "code",
   "execution_count": 8,
   "id": "4f81279b",
   "metadata": {},
   "outputs": [
    {
     "name": "stdout",
     "output_type": "stream",
     "text": [
      "hellow,world\n"
     ]
    }
   ],
   "source": [
    "# Changing String into lower Case\n",
    "a=\"Hellow,world\"\n",
    "print(a.lower())\n"
   ]
  },
  {
   "cell_type": "markdown",
   "id": "0dcc38ba",
   "metadata": {},
   "source": [
    "### **Chaning String into UpperCase**"
   ]
  },
  {
   "cell_type": "code",
   "execution_count": 9,
   "id": "ea30747d",
   "metadata": {},
   "outputs": [
    {
     "name": "stdout",
     "output_type": "stream",
     "text": [
      "HELLOW,WORLD\n"
     ]
    }
   ],
   "source": [
    "# Changing String  into Upper Case  \n",
    "a=\"Hellow,world\"\n",
    "print(a.upper())"
   ]
  },
  {
   "cell_type": "markdown",
   "id": "9fc382f0",
   "metadata": {},
   "source": [
    "## **String Searching**"
   ]
  },
  {
   "cell_type": "code",
   "execution_count": 28,
   "id": "c8fbd10a",
   "metadata": {},
   "outputs": [
    {
     "name": "stdout",
     "output_type": "stream",
     "text": [
      "True\n"
     ]
    }
   ],
   "source": [
    "# Checking Weather the String Ends with d\n",
    "a=\"Hellow,world\"\n",
    "print(a.endswith(\"d\"))"
   ]
  },
  {
   "cell_type": "code",
   "execution_count": 29,
   "id": "07f84373",
   "metadata": {},
   "outputs": [
    {
     "name": "stdout",
     "output_type": "stream",
     "text": [
      "1\n"
     ]
    }
   ],
   "source": [
    "# Searching for Substring within the string \n",
    "print(a.find(\"ello\"))"
   ]
  },
  {
   "cell_type": "markdown",
   "id": "a0d4dd2d",
   "metadata": {},
   "source": [
    "### **String Concatenation**"
   ]
  },
  {
   "cell_type": "code",
   "execution_count": 30,
   "id": "981c96ce-7364-4c70-8950-067e36b34802",
   "metadata": {},
   "outputs": [
    {
     "name": "stdout",
     "output_type": "stream",
     "text": [
      "hellow world\n"
     ]
    }
   ],
   "source": [
    "# String Concatenation\n",
    "a=\"hellow\"\n",
    "b=\"world\"\n",
    "c=a+\" \"+b\n",
    "print(c)"
   ]
  },
  {
   "cell_type": "markdown",
   "id": "79463298",
   "metadata": {},
   "source": [
    "## **String Spliting**"
   ]
  },
  {
   "cell_type": "code",
   "execution_count": 31,
   "id": "580755f0-562e-45f3-8940-509e5a04cad7",
   "metadata": {},
   "outputs": [
    {
     "data": {
      "text/plain": [
       "['one', 'two', 'three', 'four']"
      ]
     },
     "execution_count": 31,
     "metadata": {},
     "output_type": "execute_result"
    }
   ],
   "source": [
    "my_string=\"one two three four\"\n",
    "## Spliting based on Space and Converting it into list.\n",
    "my_list=my_string.split()\n",
    "my_list"
   ]
  },
  {
   "cell_type": "markdown",
   "id": "3dadc7bb",
   "metadata": {},
   "source": [
    "### **Practise Examples**"
   ]
  },
  {
   "cell_type": "markdown",
   "id": "ceacce4b",
   "metadata": {},
   "source": [
    "### **Spliting a String based on '/'**"
   ]
  },
  {
   "cell_type": "code",
   "execution_count": 32,
   "id": "2903e7c0-2a2c-4d1c-9b8c-3634a77baa7e",
   "metadata": {},
   "outputs": [
    {
     "data": {
      "text/plain": [
       "['1', '2', '3', '4', '5']"
      ]
     },
     "execution_count": 32,
     "metadata": {},
     "output_type": "execute_result"
    }
   ],
   "source": [
    "my_string=\"1/2/3/4/5\"\n",
    "# Spliting a String based on '/'\n",
    "my_list=my_string.split('/')\n",
    "my_list"
   ]
  },
  {
   "cell_type": "markdown",
   "id": "eff04dbe",
   "metadata": {},
   "source": [
    "### **Spliting a String based on '-'**"
   ]
  },
  {
   "cell_type": "code",
   "execution_count": 33,
   "id": "2ac1f6d9-c67f-4d53-a4ce-95b5b20b41d9",
   "metadata": {},
   "outputs": [
    {
     "data": {
      "text/plain": [
       "['1', '2', '3', '4', '5']"
      ]
     },
     "execution_count": 33,
     "metadata": {},
     "output_type": "execute_result"
    }
   ],
   "source": [
    "my_string=\"1-2-3-4-5\"\n",
    "# Spliting a String based on '-'\n",
    "my_list=my_string.split('-')\n",
    "my_list"
   ]
  },
  {
   "cell_type": "markdown",
   "id": "42cd75a8",
   "metadata": {},
   "source": [
    "### **Spliting a String based on '.'**"
   ]
  },
  {
   "cell_type": "code",
   "execution_count": 34,
   "id": "d2a9a593-50da-4efb-8e6e-dfc42091b77e",
   "metadata": {},
   "outputs": [
    {
     "data": {
      "text/plain": [
       "['1', '2', '3', '4', '5']"
      ]
     },
     "execution_count": 34,
     "metadata": {},
     "output_type": "execute_result"
    }
   ],
   "source": [
    "my_string=\"1.2.3.4.5\"\n",
    "# Spliting a String based on '.'\n",
    "my_list=my_string.split('.')\n",
    "my_list"
   ]
  },
  {
   "cell_type": "markdown",
   "id": "460924b4",
   "metadata": {},
   "source": [
    "### **Spliting a String based on Space**"
   ]
  },
  {
   "cell_type": "code",
   "execution_count": 35,
   "id": "6ca53a7b-bcc7-409c-b1d9-05154420ad29",
   "metadata": {},
   "outputs": [
    {
     "data": {
      "text/plain": [
       "['peach', 'raspberry', 'strawberry', 'vanilla']"
      ]
     },
     "execution_count": 35,
     "metadata": {},
     "output_type": "execute_result"
    }
   ],
   "source": [
    "# Spliting a String based on Space\n",
    "my_string=\"peach raspberry strawberry vanilla\"\n",
    "my_list=my_string.split()\n",
    "my_list"
   ]
  },
  {
   "cell_type": "markdown",
   "id": "89b8311d",
   "metadata": {},
   "source": [
    "### **Spliting a String based on ','**"
   ]
  },
  {
   "cell_type": "code",
   "execution_count": 36,
   "id": "ed32439c-5b61-43cb-9f7f-72191efbcfe5",
   "metadata": {},
   "outputs": [
    {
     "data": {
      "text/plain": [
       "['peach', 'raspberry', 'strawberry', 'vanilla']"
      ]
     },
     "execution_count": 36,
     "metadata": {},
     "output_type": "execute_result"
    }
   ],
   "source": [
    "# Spliting a String based on ','\n",
    "my_string=\"peach,raspberry,strawberry,vanilla\"\n",
    "\n",
    "my_list=my_string.split(',')\n",
    "my_list"
   ]
  },
  {
   "cell_type": "markdown",
   "id": "9f7e4291",
   "metadata": {},
   "source": [
    "### **Spliting a String based on ';'**"
   ]
  },
  {
   "cell_type": "code",
   "execution_count": 37,
   "id": "a9dd5567-f882-4aad-af28-c2c411482571",
   "metadata": {},
   "outputs": [
    {
     "data": {
      "text/plain": [
       "['17', '92', '81', '12', '46', '5']"
      ]
     },
     "execution_count": 37,
     "metadata": {},
     "output_type": "execute_result"
    }
   ],
   "source": [
    "my_string=\"17;92;81;12;46;5\"\n",
    "# Spliting a String based on ';'\n",
    "my_list=my_string.split(';')\n",
    "my_list"
   ]
  },
  {
   "cell_type": "markdown",
   "id": "82a7d121",
   "metadata": {},
   "source": [
    "### **Removing spaces**"
   ]
  },
  {
   "cell_type": "code",
   "execution_count": 38,
   "id": "63090ba2-99dd-4262-ac66-69e55a1a64dd",
   "metadata": {},
   "outputs": [
    {
     "name": "stdout",
     "output_type": "stream",
     "text": [
      "Hello  w, world\n",
      " Hello  w, world\n"
     ]
    }
   ],
   "source": [
    "a=\" Hello  w, world  \"\n",
    "# Removing spaces \n",
    "print(a.strip())\n",
    "print(a.rstrip())"
   ]
  },
  {
   "cell_type": "markdown",
   "id": "186315b9",
   "metadata": {},
   "source": [
    "## **String Methods**"
   ]
  },
  {
   "cell_type": "code",
   "execution_count": 39,
   "id": "77376cd4-4a74-4938-adcd-e8f784019fa2",
   "metadata": {},
   "outputs": [
    {
     "name": "stdout",
     "output_type": "stream",
     "text": [
      "Hello  w, world  \n"
     ]
    }
   ],
   "source": [
    "a=\" Hello  w, world  \"\n",
    "# Removing left leading Spaces\n",
    "print(a.lstrip())"
   ]
  },
  {
   "cell_type": "code",
   "execution_count": 40,
   "id": "c6fad194-bd8c-44af-839a-496d77c119b5",
   "metadata": {},
   "outputs": [
    {
     "name": "stdout",
     "output_type": "stream",
     "text": [
      "Hello  w, world--\n"
     ]
    }
   ],
   "source": [
    "a=\"--Hello  w, world--\"\n",
    "# Removing left leading --\n",
    "print(a.lstrip('-'))"
   ]
  },
  {
   "cell_type": "code",
   "execution_count": 41,
   "id": "1a5e8d17-ea4d-480e-acee-6a1ac69bc4b3",
   "metadata": {},
   "outputs": [
    {
     "name": "stdout",
     "output_type": "stream",
     "text": [
      "--Hello  w, world\n"
     ]
    }
   ],
   "source": [
    "a=\"--Hello  w, world--\"\n",
    "# Removing right leading --\n",
    "print(a.rstrip('-'))"
   ]
  },
  {
   "cell_type": "code",
   "execution_count": 42,
   "id": "d44100ce-71b8-4b28-a91e-17ffd05375c2",
   "metadata": {},
   "outputs": [
    {
     "name": "stdout",
     "output_type": "stream",
     "text": [
      "Hello  w, world\n"
     ]
    }
   ],
   "source": [
    "a=\"--Hello  w, world--\"\n",
    "# Removing - from the Entire String\n",
    "print(a.strip('-'))"
   ]
  },
  {
   "cell_type": "markdown",
   "id": "6b44874f",
   "metadata": {},
   "source": [
    "### **Checking  a String is Numeric or Not**"
   ]
  },
  {
   "cell_type": "code",
   "execution_count": 43,
   "id": "2692bc29-f3b1-4251-95f9-4b7dfa831585",
   "metadata": {},
   "outputs": [
    {
     "name": "stdout",
     "output_type": "stream",
     "text": [
      "True\n"
     ]
    }
   ],
   "source": [
    "a='112'\n",
    "# Checking Weather given String is Numeric\n",
    "print(a.isdigit())"
   ]
  },
  {
   "cell_type": "code",
   "execution_count": 44,
   "id": "a22d92ae-93e3-47d5-9d38-a07d522619a5",
   "metadata": {},
   "outputs": [
    {
     "name": "stdout",
     "output_type": "stream",
     "text": [
      "True\n",
      "True\n",
      "False\n"
     ]
    }
   ],
   "source": [
    "a=\"Kamla\"\n",
    "## Cheacking weather given variable is numeric and alphabetical\n",
    "print(a.isalnum())  \n",
    "print(a.isalpha()) ## checking given variable is alphabetic\n",
    "print(a.isupper()) ## prints true if the variable has all upper case."
   ]
  }
 ],
 "metadata": {
  "kernelspec": {
   "display_name": "Python 3 (ipykernel)",
   "language": "python",
   "name": "python3"
  },
  "language_info": {
   "codemirror_mode": {
    "name": "ipython",
    "version": 3
   },
   "file_extension": ".py",
   "mimetype": "text/x-python",
   "name": "python",
   "nbconvert_exporter": "python",
   "pygments_lexer": "ipython3",
   "version": "3.12.1"
  }
 },
 "nbformat": 4,
 "nbformat_minor": 5
}
