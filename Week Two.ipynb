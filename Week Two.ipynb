{
 "cells": [
  {
   "cell_type": "code",
   "execution_count": 1,
   "id": "6731efc9-da6c-4f11-a897-966a47f905b4",
   "metadata": {},
   "outputs": [
    {
     "name": "stdout",
     "output_type": "stream",
     "text": [
      "hello\n"
     ]
    }
   ],
   "source": [
    "## printing a variable\n",
    "a=\"hello\"\n",
    "print(a)"
   ]
  },
  {
   "cell_type": "code",
   "execution_count": 2,
   "id": "9f525025-6235-4636-95b9-1742af6b0a62",
   "metadata": {},
   "outputs": [
    {
     "name": "stdout",
     "output_type": "stream",
     "text": [
      "e\n",
      "llo\n"
     ]
    }
   ],
   "source": [
    "## printing a certain letter from the string\n",
    "a=\"hellow,world\"\n",
    "print(a[1])\n",
    "print(a[2:5])"
   ]
  },
  {
   "cell_type": "code",
   "execution_count": 3,
   "id": "97e50659-7fda-4bc4-8778-8f762a3652a0",
   "metadata": {},
   "outputs": [
    {
     "name": "stdout",
     "output_type": "stream",
     "text": [
      "12\n",
      "Hjllow,world\n",
      "Hellow,world\n"
     ]
    }
   ],
   "source": [
    "a=\"Hellow,world\"\n",
    "## Finding the length of a string\n",
    "print(len(a))\n",
    "## Replacing e with j\n",
    "print(a.replace(\"e\",\"j\"))\n",
    "print(a)"
   ]
  },
  {
   "cell_type": "code",
   "execution_count": 4,
   "id": "981c96ce-7364-4c70-8950-067e36b34802",
   "metadata": {},
   "outputs": [
    {
     "name": "stdout",
     "output_type": "stream",
     "text": [
      "hellow,world\n",
      "HELLOW,WORLD\n"
     ]
    }
   ],
   "source": [
    "## changing string into lower case\n",
    "print(a.lower())\n",
    "## Changing string  into upper case  \n",
    "print(a.upper())"
   ]
  },
  {
   "cell_type": "code",
   "execution_count": 5,
   "id": "580755f0-562e-45f3-8940-509e5a04cad7",
   "metadata": {},
   "outputs": [
    {
     "name": "stdout",
     "output_type": "stream",
     "text": [
      "True\n"
     ]
    }
   ],
   "source": [
    "## Checking weather the string ends with d\n",
    "print(a.endswith(\"d\"))"
   ]
  },
  {
   "cell_type": "code",
   "execution_count": 6,
   "id": "2903e7c0-2a2c-4d1c-9b8c-3634a77baa7e",
   "metadata": {},
   "outputs": [
    {
     "name": "stdout",
     "output_type": "stream",
     "text": [
      "1\n"
     ]
    }
   ],
   "source": [
    "## Searching for substring within the string \n",
    "print(a.find(\"ello\"))\n"
   ]
  },
  {
   "cell_type": "code",
   "execution_count": 7,
   "id": "2ac1f6d9-c67f-4d53-a4ce-95b5b20b41d9",
   "metadata": {},
   "outputs": [
    {
     "name": "stdout",
     "output_type": "stream",
     "text": [
      "hellow world\n"
     ]
    }
   ],
   "source": [
    "a=\"hellow\"\n",
    "b=\"world\"\n",
    "c=a+\" \"+b\n",
    "print(c)"
   ]
  },
  {
   "cell_type": "code",
   "execution_count": 8,
   "id": "d2a9a593-50da-4efb-8e6e-dfc42091b77e",
   "metadata": {},
   "outputs": [
    {
     "data": {
      "text/plain": [
       "['one', 'two', 'three', 'four']"
      ]
     },
     "execution_count": 8,
     "metadata": {},
     "output_type": "execute_result"
    }
   ],
   "source": [
    "my_string=\"one two three four\"\n",
    "## Spliting based on space and converting it into list.\n",
    "my_list=my_string.split()\n",
    "my_list"
   ]
  },
  {
   "cell_type": "code",
   "execution_count": 9,
   "id": "6ca53a7b-bcc7-409c-b1d9-05154420ad29",
   "metadata": {},
   "outputs": [
    {
     "data": {
      "text/plain": [
       "['1', '2', '3', '4', '5']"
      ]
     },
     "execution_count": 9,
     "metadata": {},
     "output_type": "execute_result"
    }
   ],
   "source": [
    "## Practise example\n",
    "my_string=\"1/2/3/4/5\"\n",
    "## Spliting based on /\n",
    "my_list=my_string.split('/')\n",
    "my_list"
   ]
  },
  {
   "cell_type": "code",
   "execution_count": 10,
   "id": "ed32439c-5b61-43cb-9f7f-72191efbcfe5",
   "metadata": {},
   "outputs": [
    {
     "data": {
      "text/plain": [
       "['1', '2', '3', '4', '5']"
      ]
     },
     "execution_count": 10,
     "metadata": {},
     "output_type": "execute_result"
    }
   ],
   "source": [
    "## Practise example\n",
    "my_string=\"1-2-3-4-5\"\n",
    "## Spliting based on -\n",
    "my_list=my_string.split('-')\n",
    "my_list"
   ]
  },
  {
   "cell_type": "code",
   "execution_count": 11,
   "id": "a9dd5567-f882-4aad-af28-c2c411482571",
   "metadata": {},
   "outputs": [
    {
     "data": {
      "text/plain": [
       "['1', '2', '3', '4', '5']"
      ]
     },
     "execution_count": 11,
     "metadata": {},
     "output_type": "execute_result"
    }
   ],
   "source": [
    "## Practise example\n",
    "my_string=\"1.2.3.4.5\"\n",
    "## Spliting based on -\n",
    "my_list=my_string.split('.')\n",
    "my_list"
   ]
  },
  {
   "cell_type": "code",
   "execution_count": 12,
   "id": "63090ba2-99dd-4262-ac66-69e55a1a64dd",
   "metadata": {},
   "outputs": [
    {
     "data": {
      "text/plain": [
       "['peach', 'raspberry', 'strawberry', 'vanilla']"
      ]
     },
     "execution_count": 12,
     "metadata": {},
     "output_type": "execute_result"
    }
   ],
   "source": [
    "my_string=\"peach raspberry strawberry vanilla\"\n",
    "my_list=my_string.split()\n",
    "my_list"
   ]
  },
  {
   "cell_type": "code",
   "execution_count": 13,
   "id": "77376cd4-4a74-4938-adcd-e8f784019fa2",
   "metadata": {},
   "outputs": [
    {
     "data": {
      "text/plain": [
       "['peach', 'raspberry', 'strawberry', 'vanilla']"
      ]
     },
     "execution_count": 13,
     "metadata": {},
     "output_type": "execute_result"
    }
   ],
   "source": [
    "my_string=\"peach,raspberry,strawberry,vanilla\"\n",
    "## Spliting based on ,\n",
    "my_list=my_string.split(',')\n",
    "my_list"
   ]
  },
  {
   "cell_type": "code",
   "execution_count": 14,
   "id": "c6fad194-bd8c-44af-839a-496d77c119b5",
   "metadata": {},
   "outputs": [
    {
     "data": {
      "text/plain": [
       "['17', '92', '81', '12', '46', '5']"
      ]
     },
     "execution_count": 14,
     "metadata": {},
     "output_type": "execute_result"
    }
   ],
   "source": [
    "my_string=\"17;92;81;12;46;5\"\n",
    "## Spliting based on ;\n",
    "my_list=my_string.split(';')\n",
    "my_list"
   ]
  },
  {
   "cell_type": "code",
   "execution_count": 15,
   "id": "1a5e8d17-ea4d-480e-acee-6a1ac69bc4b3",
   "metadata": {},
   "outputs": [
    {
     "name": "stdout",
     "output_type": "stream",
     "text": [
      "Hello  w, world\n",
      " Hello  w, world\n"
     ]
    }
   ],
   "source": [
    "a=\" Hello  w, world  \"\n",
    "## Removing spaces \n",
    "print(a.strip())\n",
    "print(a.rstrip())"
   ]
  },
  {
   "cell_type": "code",
   "execution_count": 16,
   "id": "d44100ce-71b8-4b28-a91e-17ffd05375c2",
   "metadata": {},
   "outputs": [
    {
     "name": "stdout",
     "output_type": "stream",
     "text": [
      "Hello  w, world  \n"
     ]
    }
   ],
   "source": [
    "a=\" Hello  w, world  \"\n",
    "## Removing left leading spaces\n",
    "print(a.lstrip())"
   ]
  },
  {
   "cell_type": "code",
   "execution_count": 17,
   "id": "2692bc29-f3b1-4251-95f9-4b7dfa831585",
   "metadata": {},
   "outputs": [
    {
     "name": "stdout",
     "output_type": "stream",
     "text": [
      "Hello  w, world--\n"
     ]
    }
   ],
   "source": [
    "a=\"--Hello  w, world--\"\n",
    "## Removing left leading --\n",
    "print(a.lstrip('-'))\n"
   ]
  },
  {
   "cell_type": "code",
   "execution_count": 18,
   "id": "a22d92ae-93e3-47d5-9d38-a07d522619a5",
   "metadata": {},
   "outputs": [
    {
     "name": "stdout",
     "output_type": "stream",
     "text": [
      "--Hello  w, world\n"
     ]
    }
   ],
   "source": [
    "a=\"--Hello  w, world--\"\n",
    "## Removing right leading --\n",
    "print(a.rstrip('-'))"
   ]
  },
  {
   "cell_type": "code",
   "execution_count": 19,
   "id": "2a6ba93b-afe4-4243-a5c2-6457afc72c5e",
   "metadata": {},
   "outputs": [
    {
     "name": "stdout",
     "output_type": "stream",
     "text": [
      "Hello  w, world\n"
     ]
    }
   ],
   "source": [
    "a=\"--Hello  w, world--\"\n",
    "## Removing - from the enting variable\n",
    "print(a.strip('-'))"
   ]
  },
  {
   "cell_type": "code",
   "execution_count": 20,
   "id": "8ab262d0",
   "metadata": {},
   "outputs": [
    {
     "name": "stdout",
     "output_type": "stream",
     "text": [
      "True\n"
     ]
    }
   ],
   "source": [
    "a='112'\n",
    "## Checking weather given variable is numeric\n",
    "print(a.isdigit())"
   ]
  },
  {
   "cell_type": "code",
   "execution_count": 21,
   "id": "dceb2e61",
   "metadata": {},
   "outputs": [
    {
     "name": "stdout",
     "output_type": "stream",
     "text": [
      "True\n",
      "True\n",
      "False\n"
     ]
    }
   ],
   "source": [
    "a=\"Kamla\"\n",
    "## Cheacking weather given variable is numeric and alphabetical\n",
    "print(a.isalnum())  \n",
    "print(a.isalpha()) ## checking given variable is alphabetic\n",
    "print(a.isupper()) ## prints true if the variable has all upper case."
   ]
  }
 ],
 "metadata": {
  "kernelspec": {
   "display_name": "Python 3 (ipykernel)",
   "language": "python",
   "name": "python3"
  },
  "language_info": {
   "codemirror_mode": {
    "name": "ipython",
    "version": 3
   },
   "file_extension": ".py",
   "mimetype": "text/x-python",
   "name": "python",
   "nbconvert_exporter": "python",
   "pygments_lexer": "ipython3",
   "version": "3.12.1"
  }
 },
 "nbformat": 4,
 "nbformat_minor": 5
}
