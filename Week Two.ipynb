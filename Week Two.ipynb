{
 "cells": [
  {
   "cell_type": "code",
   "execution_count": null,
   "id": "6731efc9-da6c-4f11-a897-966a47f905b4",
   "metadata": {},
   "outputs": [],
   "source": [
    "a=\"hello\"\n",
    "print(a)"
   ]
  },
  {
   "cell_type": "code",
   "execution_count": null,
   "id": "9f525025-6235-4636-95b9-1742af6b0a62",
   "metadata": {},
   "outputs": [],
   "source": [
    "a=\"hellow,world\"\n",
    "print(a[1])\n",
    "print(a[2:5])"
   ]
  },
  {
   "cell_type": "code",
   "execution_count": null,
   "id": "97e50659-7fda-4bc4-8778-8f762a3652a0",
   "metadata": {},
   "outputs": [],
   "source": [
    "a=\"Hellow,world\"\n",
    "print(len(a))\n",
    "print(a.lower())\n",
    "print(a.upper())\n",
    "print(a.replace(\"e\",\"j\"))\n",
    "print(a)"
   ]
  },
  {
   "cell_type": "code",
   "execution_count": null,
   "id": "981c96ce-7364-4c70-8950-067e36b34802",
   "metadata": {},
   "outputs": [],
   "source": [
    "a=\"hellow\"\n",
    "b=\"world\"\n",
    "c=a+\" \"+b\n",
    "print(c)"
   ]
  },
  {
   "cell_type": "code",
   "execution_count": null,
   "id": "580755f0-562e-45f3-8940-509e5a04cad7",
   "metadata": {},
   "outputs": [],
   "source": [
    "my_string=\"one two three four\"\n",
    "my_list=my_string.split()\n",
    "my_list"
   ]
  },
  {
   "cell_type": "code",
   "execution_count": null,
   "id": "2903e7c0-2a2c-4d1c-9b8c-3634a77baa7e",
   "metadata": {},
   "outputs": [],
   "source": [
    "my_string=\"1/2/3/4/5\"\n",
    "my_list=my_string.split('/')\n",
    "my_list"
   ]
  },
  {
   "cell_type": "code",
   "execution_count": null,
   "id": "2ac1f6d9-c67f-4d53-a4ce-95b5b20b41d9",
   "metadata": {},
   "outputs": [],
   "source": [
    "my_string=\"1-2-3-4-5\"\n",
    "my_list=my_string.split('-')\n",
    "my_list"
   ]
  },
  {
   "cell_type": "code",
   "execution_count": null,
   "id": "d2a9a593-50da-4efb-8e6e-dfc42091b77e",
   "metadata": {},
   "outputs": [],
   "source": [
    "my_string=\"1.2.3.4.5\"\n",
    "my_list=my_string.split('.')\n",
    "my_list"
   ]
  },
  {
   "cell_type": "code",
   "execution_count": null,
   "id": "6ca53a7b-bcc7-409c-b1d9-05154420ad29",
   "metadata": {},
   "outputs": [],
   "source": [
    "my_string=\"peach raspberry strawberry vanilla\"\n",
    "my_list=my_string.split()\n",
    "my_list"
   ]
  },
  {
   "cell_type": "code",
   "execution_count": null,
   "id": "ed32439c-5b61-43cb-9f7f-72191efbcfe5",
   "metadata": {},
   "outputs": [],
   "source": [
    "my_string=\"peach,raspberry,strawberry,vanilla\"\n",
    "my_list=my_string.split(',')\n",
    "my_list"
   ]
  },
  {
   "cell_type": "code",
   "execution_count": null,
   "id": "a9dd5567-f882-4aad-af28-c2c411482571",
   "metadata": {},
   "outputs": [],
   "source": [
    "my_string=\"17;92;81;12;46;5\"\n",
    "my_list=my_string.split(';')\n",
    "my_list"
   ]
  },
  {
   "cell_type": "code",
   "execution_count": null,
   "id": "63090ba2-99dd-4262-ac66-69e55a1a64dd",
   "metadata": {},
   "outputs": [],
   "source": [
    "a=\" Hello  w, world  \"\n",
    "print(a.strip())\n",
    "print(a.rstrip())"
   ]
  },
  {
   "cell_type": "code",
   "execution_count": null,
   "id": "77376cd4-4a74-4938-adcd-e8f784019fa2",
   "metadata": {},
   "outputs": [],
   "source": [
    "a=\" Hello  w, world  \"\n",
    "print(a.lstrip())"
   ]
  },
  {
   "cell_type": "code",
   "execution_count": null,
   "id": "c6fad194-bd8c-44af-839a-496d77c119b5",
   "metadata": {},
   "outputs": [],
   "source": [
    "a=\"--Hello  w, world--\"\n",
    "print(a.lstrip('-'))"
   ]
  },
  {
   "cell_type": "code",
   "execution_count": null,
   "id": "1a5e8d17-ea4d-480e-acee-6a1ac69bc4b3",
   "metadata": {},
   "outputs": [],
   "source": [
    "a=\"--Hello  w, world--\"\n",
    "print(a.rstrip('-'))"
   ]
  },
  {
   "cell_type": "code",
   "execution_count": null,
   "id": "d44100ce-71b8-4b28-a91e-17ffd05375c2",
   "metadata": {},
   "outputs": [],
   "source": [
    "a=\"--Hello  w, world--\"\n",
    "print(a.strip('-'))"
   ]
  },
  {
   "cell_type": "code",
   "execution_count": 2,
   "id": "2692bc29-f3b1-4251-95f9-4b7dfa831585",
   "metadata": {},
   "outputs": [
    {
     "name": "stdout",
     "output_type": "stream",
     "text": [
      "True\n"
     ]
    }
   ],
   "source": [
    "a='112'\n",
    "print(a.isdigit())"
   ]
  },
  {
   "cell_type": "code",
   "execution_count": 3,
   "id": "a22d92ae-93e3-47d5-9d38-a07d522619a5",
   "metadata": {},
   "outputs": [
    {
     "name": "stdout",
     "output_type": "stream",
     "text": [
      "True\n",
      "True\n",
      "False\n"
     ]
    }
   ],
   "source": [
    "a=\"Kamla\"\n",
    "print(a.isalnum())\n",
    "print(a.isalpha())\n",
    "print(a.isupper())"
   ]
  },
  {
   "cell_type": "code",
   "execution_count": null,
   "id": "2a6ba93b-afe4-4243-a5c2-6457afc72c5e",
   "metadata": {},
   "outputs": [],
   "source": []
  }
 ],
 "metadata": {
  "kernelspec": {
   "display_name": "Python 3 (ipykernel)",
   "language": "python",
   "name": "python3"
  },
  "language_info": {
   "codemirror_mode": {
    "name": "ipython",
    "version": 3
   },
   "file_extension": ".py",
   "mimetype": "text/x-python",
   "name": "python",
   "nbconvert_exporter": "python",
   "pygments_lexer": "ipython3",
   "version": "3.12.1"
  }
 },
 "nbformat": 4,
 "nbformat_minor": 5
}
