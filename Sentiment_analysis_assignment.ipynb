{
 "cells": [
  {
   "cell_type": "markdown",
   "id": "de257eed-cf34-4ea5-a641-0c2d1b6bc222",
   "metadata": {},
   "source": [
    "## **SENTIMENT ANALYSIS / ASSIGNMENT-4**"
   ]
  },
  {
   "cell_type": "markdown",
   "id": "3e554521-6e05-4c48-90b4-59ed210e2bcc",
   "metadata": {},
   "source": [
    "## **Loading dataset**"
   ]
  },
  {
   "cell_type": "code",
   "execution_count": 2,
   "id": "af69f627-5caa-4883-b81f-e50b35dc2c0f",
   "metadata": {},
   "outputs": [
    {
     "data": {
      "text/html": [
       "<div>\n",
       "<style scoped>\n",
       "    .dataframe tbody tr th:only-of-type {\n",
       "        vertical-align: middle;\n",
       "    }\n",
       "\n",
       "    .dataframe tbody tr th {\n",
       "        vertical-align: top;\n",
       "    }\n",
       "\n",
       "    .dataframe thead th {\n",
       "        text-align: right;\n",
       "    }\n",
       "</style>\n",
       "<table border=\"1\" class=\"dataframe\">\n",
       "  <thead>\n",
       "    <tr style=\"text-align: right;\">\n",
       "      <th></th>\n",
       "      <th>articleID</th>\n",
       "      <th>abstract</th>\n",
       "      <th>byline</th>\n",
       "      <th>documentType</th>\n",
       "      <th>headline</th>\n",
       "      <th>keywords</th>\n",
       "      <th>multimedia</th>\n",
       "      <th>newDesk</th>\n",
       "      <th>printPage</th>\n",
       "      <th>pubDate</th>\n",
       "      <th>sectionName</th>\n",
       "      <th>snippet</th>\n",
       "      <th>source</th>\n",
       "      <th>typeOfMaterial</th>\n",
       "      <th>webURL</th>\n",
       "      <th>articleWordCount</th>\n",
       "    </tr>\n",
       "  </thead>\n",
       "  <tbody>\n",
       "    <tr>\n",
       "      <th>203</th>\n",
       "      <td>58767b8a95d0e0392607a2b3</td>\n",
       "      <td>NaN</td>\n",
       "      <td>By BEN ROTHENBERG</td>\n",
       "      <td>article</td>\n",
       "      <td>Looking to Tune In to Catch Women’s Tennis? Fo...</td>\n",
       "      <td>['Tennis', \"Women's Tennis Assn\", 'Tennis Chan...</td>\n",
       "      <td>1</td>\n",
       "      <td>Sports</td>\n",
       "      <td>11</td>\n",
       "      <td>2017-01-11 18:37:58</td>\n",
       "      <td>Tennis</td>\n",
       "      <td>Fans seeking matches in the opening days of th...</td>\n",
       "      <td>The New York Times</td>\n",
       "      <td>News</td>\n",
       "      <td>https://www.nytimes.com/2017/01/11/sports/tenn...</td>\n",
       "      <td>1181</td>\n",
       "    </tr>\n",
       "    <tr>\n",
       "      <th>80</th>\n",
       "      <td>586f78c495d0e039260794ff</td>\n",
       "      <td>NaN</td>\n",
       "      <td>By RON LIEBER</td>\n",
       "      <td>article</td>\n",
       "      <td>Grabbing Card Bonuses Before Banks Pull Them</td>\n",
       "      <td>['Credit Cards', 'Banking and Financial Instit...</td>\n",
       "      <td>1</td>\n",
       "      <td>Business</td>\n",
       "      <td>1</td>\n",
       "      <td>2017-01-06 11:00:17</td>\n",
       "      <td>Unknown</td>\n",
       "      <td>Even if you thought you’d had enough of card-h...</td>\n",
       "      <td>The New York Times</td>\n",
       "      <td>News</td>\n",
       "      <td>https://www.nytimes.com/2017/01/06/your-money/...</td>\n",
       "      <td>1507</td>\n",
       "    </tr>\n",
       "    <tr>\n",
       "      <th>384</th>\n",
       "      <td>587d42fc95d0e0392607b02a</td>\n",
       "      <td>NaN</td>\n",
       "      <td>By STEVEN ERLANGER</td>\n",
       "      <td>article</td>\n",
       "      <td>For Wary World, True Trump Aims Remain Unknown</td>\n",
       "      <td>['Trump, Donald J', 'United States Politics an...</td>\n",
       "      <td>1</td>\n",
       "      <td>Foreign</td>\n",
       "      <td>1</td>\n",
       "      <td>2017-01-16 22:02:31</td>\n",
       "      <td>Europe</td>\n",
       "      <td>Having made contradictory comments, President-...</td>\n",
       "      <td>The New York Times</td>\n",
       "      <td>News</td>\n",
       "      <td>https://www.nytimes.com/2017/01/16/world/europ...</td>\n",
       "      <td>1619</td>\n",
       "    </tr>\n",
       "    <tr>\n",
       "      <th>375</th>\n",
       "      <td>587c828095d0e0392607ae8e</td>\n",
       "      <td>NaN</td>\n",
       "      <td>By THE EDITORIAL BOARD</td>\n",
       "      <td>article</td>\n",
       "      <td>Children of the Opioid Epidemic</td>\n",
       "      <td>['Pain-Relieving Drugs', 'Drug Abuse and Traff...</td>\n",
       "      <td>1</td>\n",
       "      <td>Editorial</td>\n",
       "      <td>20</td>\n",
       "      <td>2017-01-16 08:21:13</td>\n",
       "      <td>Unknown</td>\n",
       "      <td>As opioid abuse rises, so does the number of c...</td>\n",
       "      <td>The New York Times</td>\n",
       "      <td>Editorial</td>\n",
       "      <td>https://www.nytimes.com/2017/01/16/opinion/you...</td>\n",
       "      <td>550</td>\n",
       "    </tr>\n",
       "    <tr>\n",
       "      <th>506</th>\n",
       "      <td>5881dfad95d0e0392607bd1c</td>\n",
       "      <td>NaN</td>\n",
       "      <td>By CAROLINE CROSSON GILPIN and MICHAEL GONCHAR</td>\n",
       "      <td>article</td>\n",
       "      <td>Does Achieving Success Always Include Being Ha...</td>\n",
       "      <td>[]</td>\n",
       "      <td>1</td>\n",
       "      <td>Learning</td>\n",
       "      <td>0</td>\n",
       "      <td>2017-01-20 10:00:04</td>\n",
       "      <td>Unknown</td>\n",
       "      <td>Can you imagine being successful without being...</td>\n",
       "      <td>The New York Times</td>\n",
       "      <td>News</td>\n",
       "      <td>https://www.nytimes.com/2017/01/20/learning/do...</td>\n",
       "      <td>502</td>\n",
       "    </tr>\n",
       "    <tr>\n",
       "      <th>691</th>\n",
       "      <td>588b151c95d0e0392607d1ce</td>\n",
       "      <td>NaN</td>\n",
       "      <td>By RORY SMITH</td>\n",
       "      <td>article</td>\n",
       "      <td>Mutinies by Fans, All Over England</td>\n",
       "      <td>['Blackburn Rovers (Soccer Team, England)', 'B...</td>\n",
       "      <td>1</td>\n",
       "      <td>Sports</td>\n",
       "      <td>1</td>\n",
       "      <td>2017-01-27 09:38:29</td>\n",
       "      <td>Soccer</td>\n",
       "      <td>Saturday’s Blackburn-Blackpool match will brin...</td>\n",
       "      <td>The New York Times</td>\n",
       "      <td>News</td>\n",
       "      <td>https://www.nytimes.com/2017/01/27/sports/socc...</td>\n",
       "      <td>1181</td>\n",
       "    </tr>\n",
       "    <tr>\n",
       "      <th>672</th>\n",
       "      <td>588a9b9c95d0e0392607d0e8</td>\n",
       "      <td>NaN</td>\n",
       "      <td>By RICHARD R. RAMPONI</td>\n",
       "      <td>article</td>\n",
       "      <td>Late-Night Trouble in Paradise</td>\n",
       "      <td>['Subways', 'Fordham University', 'New York Ci...</td>\n",
       "      <td>0</td>\n",
       "      <td>Metro</td>\n",
       "      <td>19</td>\n",
       "      <td>2017-01-27 01:00:03</td>\n",
       "      <td>Unknown</td>\n",
       "      <td>Watching an argument between a couple who appe...</td>\n",
       "      <td>The New York Times</td>\n",
       "      <td>News</td>\n",
       "      <td>https://www.nytimes.com/2017/01/26/nyregion/me...</td>\n",
       "      <td>168</td>\n",
       "    </tr>\n",
       "    <tr>\n",
       "      <th>823</th>\n",
       "      <td>5891b1ad95d0e0392607df07</td>\n",
       "      <td>NaN</td>\n",
       "      <td>By SAM ANDERSON</td>\n",
       "      <td>article</td>\n",
       "      <td>The Mysteries of An Everything Man</td>\n",
       "      <td>['Oklahoma City Thunder', 'Westbrook, Russell'...</td>\n",
       "      <td>1</td>\n",
       "      <td>Magazine</td>\n",
       "      <td>33</td>\n",
       "      <td>2017-02-01 10:00:04</td>\n",
       "      <td>Unknown</td>\n",
       "      <td>Following the departure of his superstar teamm...</td>\n",
       "      <td>The New York Times</td>\n",
       "      <td>News</td>\n",
       "      <td>https://www.nytimes.com/2017/02/01/magazine/th...</td>\n",
       "      <td>7732</td>\n",
       "    </tr>\n",
       "    <tr>\n",
       "      <th>754</th>\n",
       "      <td>588f15b395d0e0392607d860</td>\n",
       "      <td>NaN</td>\n",
       "      <td>By THE LEARNING NETWORK</td>\n",
       "      <td>article</td>\n",
       "      <td>What’s Going On in This Picture? | Jan. 30, 2017</td>\n",
       "      <td>[]</td>\n",
       "      <td>1</td>\n",
       "      <td>Learning</td>\n",
       "      <td>0</td>\n",
       "      <td>2017-01-30 10:30:02</td>\n",
       "      <td>Unknown</td>\n",
       "      <td>Look closely at this image, stripped of its ca...</td>\n",
       "      <td>The New York Times</td>\n",
       "      <td>News</td>\n",
       "      <td>https://www.nytimes.com/2017/01/30/learning/wh...</td>\n",
       "      <td>513</td>\n",
       "    </tr>\n",
       "    <tr>\n",
       "      <th>632</th>\n",
       "      <td>588910c895d0e0392607cc8b</td>\n",
       "      <td>NaN</td>\n",
       "      <td>By SHAUN GLADWELL</td>\n",
       "      <td>article</td>\n",
       "      <td>Orbital Vanitas</td>\n",
       "      <td>['Virtual Reality (Computers)', 'Skull (Body P...</td>\n",
       "      <td>1</td>\n",
       "      <td>OpEd</td>\n",
       "      <td>0</td>\n",
       "      <td>2017-01-25 20:55:29</td>\n",
       "      <td>Unknown</td>\n",
       "      <td>This virtual reality experience presents a sur...</td>\n",
       "      <td>The New York Times</td>\n",
       "      <td>Op-Ed</td>\n",
       "      <td>https://www.nytimes.com/2017/01/25/opinion/orb...</td>\n",
       "      <td>370</td>\n",
       "    </tr>\n",
       "  </tbody>\n",
       "</table>\n",
       "</div>"
      ],
      "text/plain": [
       "                    articleID abstract  \\\n",
       "203  58767b8a95d0e0392607a2b3      NaN   \n",
       "80   586f78c495d0e039260794ff      NaN   \n",
       "384  587d42fc95d0e0392607b02a      NaN   \n",
       "375  587c828095d0e0392607ae8e      NaN   \n",
       "506  5881dfad95d0e0392607bd1c      NaN   \n",
       "691  588b151c95d0e0392607d1ce      NaN   \n",
       "672  588a9b9c95d0e0392607d0e8      NaN   \n",
       "823  5891b1ad95d0e0392607df07      NaN   \n",
       "754  588f15b395d0e0392607d860      NaN   \n",
       "632  588910c895d0e0392607cc8b      NaN   \n",
       "\n",
       "                                             byline documentType  \\\n",
       "203                               By BEN ROTHENBERG      article   \n",
       "80                                    By RON LIEBER      article   \n",
       "384                              By STEVEN ERLANGER      article   \n",
       "375                          By THE EDITORIAL BOARD      article   \n",
       "506  By CAROLINE CROSSON GILPIN and MICHAEL GONCHAR      article   \n",
       "691                                   By RORY SMITH      article   \n",
       "672                           By RICHARD R. RAMPONI      article   \n",
       "823                                 By SAM ANDERSON      article   \n",
       "754                         By THE LEARNING NETWORK      article   \n",
       "632                               By SHAUN GLADWELL      article   \n",
       "\n",
       "                                              headline  \\\n",
       "203  Looking to Tune In to Catch Women’s Tennis? Fo...   \n",
       "80        Grabbing Card Bonuses Before Banks Pull Them   \n",
       "384     For Wary World, True Trump Aims Remain Unknown   \n",
       "375                    Children of the Opioid Epidemic   \n",
       "506  Does Achieving Success Always Include Being Ha...   \n",
       "691                 Mutinies by Fans, All Over England   \n",
       "672                     Late-Night Trouble in Paradise   \n",
       "823                 The Mysteries of An Everything Man   \n",
       "754   What’s Going On in This Picture? | Jan. 30, 2017   \n",
       "632                                    Orbital Vanitas   \n",
       "\n",
       "                                              keywords  multimedia    newDesk  \\\n",
       "203  ['Tennis', \"Women's Tennis Assn\", 'Tennis Chan...           1     Sports   \n",
       "80   ['Credit Cards', 'Banking and Financial Instit...           1   Business   \n",
       "384  ['Trump, Donald J', 'United States Politics an...           1    Foreign   \n",
       "375  ['Pain-Relieving Drugs', 'Drug Abuse and Traff...           1  Editorial   \n",
       "506                                                 []           1   Learning   \n",
       "691  ['Blackburn Rovers (Soccer Team, England)', 'B...           1     Sports   \n",
       "672  ['Subways', 'Fordham University', 'New York Ci...           0      Metro   \n",
       "823  ['Oklahoma City Thunder', 'Westbrook, Russell'...           1   Magazine   \n",
       "754                                                 []           1   Learning   \n",
       "632  ['Virtual Reality (Computers)', 'Skull (Body P...           1       OpEd   \n",
       "\n",
       "     printPage              pubDate sectionName  \\\n",
       "203         11  2017-01-11 18:37:58      Tennis   \n",
       "80           1  2017-01-06 11:00:17     Unknown   \n",
       "384          1  2017-01-16 22:02:31      Europe   \n",
       "375         20  2017-01-16 08:21:13     Unknown   \n",
       "506          0  2017-01-20 10:00:04     Unknown   \n",
       "691          1  2017-01-27 09:38:29      Soccer   \n",
       "672         19  2017-01-27 01:00:03     Unknown   \n",
       "823         33  2017-02-01 10:00:04     Unknown   \n",
       "754          0  2017-01-30 10:30:02     Unknown   \n",
       "632          0  2017-01-25 20:55:29     Unknown   \n",
       "\n",
       "                                               snippet              source  \\\n",
       "203  Fans seeking matches in the opening days of th...  The New York Times   \n",
       "80   Even if you thought you’d had enough of card-h...  The New York Times   \n",
       "384  Having made contradictory comments, President-...  The New York Times   \n",
       "375  As opioid abuse rises, so does the number of c...  The New York Times   \n",
       "506  Can you imagine being successful without being...  The New York Times   \n",
       "691  Saturday’s Blackburn-Blackpool match will brin...  The New York Times   \n",
       "672  Watching an argument between a couple who appe...  The New York Times   \n",
       "823  Following the departure of his superstar teamm...  The New York Times   \n",
       "754  Look closely at this image, stripped of its ca...  The New York Times   \n",
       "632  This virtual reality experience presents a sur...  The New York Times   \n",
       "\n",
       "    typeOfMaterial                                             webURL  \\\n",
       "203           News  https://www.nytimes.com/2017/01/11/sports/tenn...   \n",
       "80            News  https://www.nytimes.com/2017/01/06/your-money/...   \n",
       "384           News  https://www.nytimes.com/2017/01/16/world/europ...   \n",
       "375      Editorial  https://www.nytimes.com/2017/01/16/opinion/you...   \n",
       "506           News  https://www.nytimes.com/2017/01/20/learning/do...   \n",
       "691           News  https://www.nytimes.com/2017/01/27/sports/socc...   \n",
       "672           News  https://www.nytimes.com/2017/01/26/nyregion/me...   \n",
       "823           News  https://www.nytimes.com/2017/02/01/magazine/th...   \n",
       "754           News  https://www.nytimes.com/2017/01/30/learning/wh...   \n",
       "632          Op-Ed  https://www.nytimes.com/2017/01/25/opinion/orb...   \n",
       "\n",
       "     articleWordCount  \n",
       "203              1181  \n",
       "80               1507  \n",
       "384              1619  \n",
       "375               550  \n",
       "506               502  \n",
       "691              1181  \n",
       "672               168  \n",
       "823              7732  \n",
       "754               513  \n",
       "632               370  "
      ]
     },
     "execution_count": 2,
     "metadata": {},
     "output_type": "execute_result"
    }
   ],
   "source": [
    "import pandas as pd # Importing Pandas \n",
    "#This dataset contains information about the article of newyortimes\n",
    "df = pd.read_csv( 'Articlesjan2017.csv')\n",
    "df.sample(10) # Printing Top 10 Rows"
   ]
  },
  {
   "cell_type": "markdown",
   "id": "75de87a0-7538-49e9-8b68-fa472a0c21f2",
   "metadata": {},
   "source": [
    "## **Checking for Null Values**"
   ]
  },
  {
   "cell_type": "code",
   "execution_count": 4,
   "id": "37ca92b6-348c-48b2-b3bc-caf5407a9464",
   "metadata": {},
   "outputs": [
    {
     "data": {
      "text/plain": [
       "articleID             0\n",
       "abstract            810\n",
       "byline                0\n",
       "documentType          0\n",
       "headline              0\n",
       "keywords              0\n",
       "multimedia            0\n",
       "newDesk               0\n",
       "printPage             0\n",
       "pubDate               0\n",
       "sectionName           0\n",
       "snippet               0\n",
       "source                0\n",
       "typeOfMaterial        0\n",
       "webURL                0\n",
       "articleWordCount      0\n",
       "dtype: int64"
      ]
     },
     "execution_count": 4,
     "metadata": {},
     "output_type": "execute_result"
    }
   ],
   "source": [
    "df.isna().sum() # Checkimg for null Values"
   ]
  },
  {
   "cell_type": "markdown",
   "id": "b23ad8fb-b52b-4430-9ae7-bee2d346d1c9",
   "metadata": {},
   "source": [
    "## **Importing Libraries**"
   ]
  },
  {
   "cell_type": "code",
   "execution_count": 5,
   "id": "c3dfb6ab-4f6c-4545-be19-56d71b3bcc83",
   "metadata": {},
   "outputs": [],
   "source": [
    "from sklearn import preprocessing # Importing Preprocessing\n",
    "import nltk"
   ]
  },
  {
   "cell_type": "markdown",
   "id": "fd0a7baa-43c5-48ac-a27d-ba9e04e419f8",
   "metadata": {},
   "source": [
    "## **Downloading Opition Lexicon**"
   ]
  },
  {
   "cell_type": "code",
   "execution_count": 6,
   "id": "26627b38-4802-4179-8b1f-199028112147",
   "metadata": {},
   "outputs": [
    {
     "name": "stderr",
     "output_type": "stream",
     "text": [
      "[nltk_data] Downloading package opinion_lexicon to\n",
      "[nltk_data]     C:\\Users\\srima\\AppData\\Roaming\\nltk_data...\n",
      "[nltk_data]   Package opinion_lexicon is already up-to-date!\n"
     ]
    },
    {
     "data": {
      "text/plain": [
       "True"
      ]
     },
     "execution_count": 6,
     "metadata": {},
     "output_type": "execute_result"
    }
   ],
   "source": [
    "nltk.download('opinion_lexicon') # Downloading Opition Lexicon"
   ]
  },
  {
   "cell_type": "markdown",
   "id": "eb2a148d-67d4-479e-99ea-e2bebae60eb7",
   "metadata": {},
   "source": [
    "## **Importing Components from NLTK**"
   ]
  },
  {
   "cell_type": "code",
   "execution_count": 7,
   "id": "f0e4a73a-0a41-4362-b9cd-e1c0ad15dfdd",
   "metadata": {},
   "outputs": [],
   "source": [
    "from nltk.corpus import opinion_lexicon # Importing Components\n",
    "from nltk.tokenize import word_tokenize"
   ]
  },
  {
   "cell_type": "markdown",
   "id": "c8c90706-c882-4799-82a5-ab1ba9c65566",
   "metadata": {},
   "source": [
    "## **Printing total no of Words**"
   ]
  },
  {
   "cell_type": "code",
   "execution_count": 8,
   "id": "a81c9333-1af1-4544-96a4-d4bcccbd3006",
   "metadata": {},
   "outputs": [
    {
     "name": "stdout",
     "output_type": "stream",
     "text": [
      "Total number of words in opinion lexicon 6789\n",
      "Examples of positive words in opinion lexicon ['a+', 'abound', 'abounds', 'abundance', 'abundant', 'accessable', 'accessible', 'acclaim', 'acclaimed', 'acclamation']\n",
      "Examples of negative words in opinion lexicon ['2-faced', '2-faces', 'abnormal', 'abolish', 'abominable', 'abominably', 'abominate', 'abomination', 'abort', 'aborted']\n"
     ]
    }
   ],
   "source": [
    "#prints total number of words in the opinion lexicon\n",
    "print('Total number of words in opinion lexicon', len(opinion_lexicon.words()))\n",
    "print('Examples of positive words in opinion lexicon',\n",
    "      opinion_lexicon.positive()[:10])     #display examples of positive and negative words from the opinion lexicon\n",
    "print('Examples of negative words in opinion lexicon',\n",
    "      opinion_lexicon.negative()[:10])"
   ]
  },
  {
   "cell_type": "markdown",
   "id": "9dff7372-d508-4b42-916c-3677087aa88c",
   "metadata": {},
   "source": [
    "## **Downloading PUNTK TOKENIZER**"
   ]
  },
  {
   "cell_type": "code",
   "execution_count": 9,
   "id": "74acd00b-0e40-4129-afab-6e3c557216bc",
   "metadata": {},
   "outputs": [
    {
     "name": "stderr",
     "output_type": "stream",
     "text": [
      "[nltk_data] Downloading package punkt to\n",
      "[nltk_data]     C:\\Users\\srima\\AppData\\Roaming\\nltk_data...\n",
      "[nltk_data]   Package punkt is already up-to-date!\n"
     ]
    },
    {
     "data": {
      "text/plain": [
       "True"
      ]
     },
     "execution_count": 9,
     "metadata": {},
     "output_type": "execute_result"
    }
   ],
   "source": [
    "#'punkt' tokenizer is a pre-trained unsupervised machine learning model for tokenizing text into words\n",
    "nltk.download('punkt')"
   ]
  },
  {
   "cell_type": "markdown",
   "id": "189af23e-795f-4c8c-9de0-75499f508627",
   "metadata": {},
   "source": [
    "## **CREATING SENTIMENT SCORING DICTIONARY FOR REVIEW TEXT**"
   ]
  },
  {
   "cell_type": "code",
   "execution_count": 10,
   "id": "82c810ad-c89e-4139-9397-0711290354c5",
   "metadata": {},
   "outputs": [],
   "source": [
    "#Let's create a dictionary which we can use for scoring our review text\n",
    "df.rename(columns={\"headline\": \"text\"}, inplace=True)"
   ]
  },
  {
   "cell_type": "markdown",
   "id": "5d8a090e-0467-43ed-810b-d4465e497e5f",
   "metadata": {},
   "source": [
    "## **Initializing Scores**"
   ]
  },
  {
   "cell_type": "code",
   "execution_count": 11,
   "id": "d5506102-b3e7-4a9f-99d3-178ed927c433",
   "metadata": {},
   "outputs": [],
   "source": [
    "#set the positive and negative scores to be assigned to words in the word_dict dictionary.\n",
    "pos_score = 1\n",
    "neg_score = -1"
   ]
  },
  {
   "cell_type": "markdown",
   "id": "8debd34e-a731-4a20-ba2c-ff49dd37fc50",
   "metadata": {},
   "source": [
    "## **CREATING WORD DICTIONARY**"
   ]
  },
  {
   "cell_type": "code",
   "execution_count": 12,
   "id": "0123e285-34cd-4944-9a0b-4655dc8573a6",
   "metadata": {},
   "outputs": [],
   "source": [
    "#Adding the positive words to the dictionary\n",
    "word_dict = {}\n",
    "for word in opinion_lexicon.positive():\n",
    "        word_dict[word] = pos_score       #iterates through the positive words in the Opinion Lexicon and assigns each word a positive score in the dictionary\n",
    "\n",
    "# Adding the negative words to the dictionary\n",
    "for word in opinion_lexicon.negative():\n",
    "        word_dict[word] = neg_score       #iterates throug -ve words and assigns each a -ve"
   ]
  },
  {
   "cell_type": "markdown",
   "id": "3b4b0619-c516-4527-b263-4e9aa6d1bc68",
   "metadata": {},
   "source": [
    "## **BING_LIU_SCORE**"
   ]
  },
  {
   "cell_type": "code",
   "execution_count": 13,
   "id": "5d0cad2d-c5b8-4347-97cc-4628cad74daf",
   "metadata": {},
   "outputs": [],
   "source": [
    "#Sentiment analysis function using a simple bag-of-words \n",
    "def bing_liu_score(text):\n",
    "    sentiment_score = 0\n",
    "    bag_of_words = word_tokenize(text.lower())  #word_tokenize splits the text into individual words.\n",
    "    for word in bag_of_words:\n",
    "        if word in word_dict:\n",
    "            sentiment_score += word_dict[word]\n",
    "    return sentiment_score"
   ]
  },
  {
   "cell_type": "markdown",
   "id": "14ba6843-238e-435f-a8aa-98e6cf67e0d2",
   "metadata": {},
   "source": [
    "## **BING_LU_SCORE() FOR TEXT DF**"
   ]
  },
  {
   "cell_type": "code",
   "execution_count": 14,
   "id": "0cc4318f-c45c-4757-8bcd-3abd01fff1c0",
   "metadata": {},
   "outputs": [
    {
     "name": "stderr",
     "output_type": "stream",
     "text": [
      "C:\\Users\\srima\\AppData\\Local\\Temp\\ipykernel_12804\\1427262882.py:2: FutureWarning: A value is trying to be set on a copy of a DataFrame or Series through chained assignment using an inplace method.\n",
      "The behavior will change in pandas 3.0. This inplace method will never work because the intermediate object on which we are setting values always behaves as a copy.\n",
      "\n",
      "For example, when doing 'df[col].method(value, inplace=True)', try using 'df.method({col: value}, inplace=True)' or df[col] = df[col].method(value) instead, to perform the operation inplace on the original object.\n",
      "\n",
      "\n",
      "  df['text'].fillna('no review', inplace=True)\n"
     ]
    }
   ],
   "source": [
    "#Replace missing values in the 'text' column with the string 'no review'\n",
    "df['text'].fillna('no review', inplace=True)\n",
    "df['Bing_Liu_Score'] = df['text'].apply(bing_liu_score)"
   ]
  },
  {
   "cell_type": "markdown",
   "id": "59b61382-f058-42c4-97cf-19587c0399b7",
   "metadata": {},
   "source": [
    "## **BING_lu_score for top 10 Rows**"
   ]
  },
  {
   "cell_type": "code",
   "execution_count": 15,
   "id": "a1c2f59e-e244-4438-856c-ed310214ab2d",
   "metadata": {},
   "outputs": [
    {
     "data": {
      "text/html": [
       "<div>\n",
       "<style scoped>\n",
       "    .dataframe tbody tr th:only-of-type {\n",
       "        vertical-align: middle;\n",
       "    }\n",
       "\n",
       "    .dataframe tbody tr th {\n",
       "        vertical-align: top;\n",
       "    }\n",
       "\n",
       "    .dataframe thead th {\n",
       "        text-align: right;\n",
       "    }\n",
       "</style>\n",
       "<table border=\"1\" class=\"dataframe\">\n",
       "  <thead>\n",
       "    <tr style=\"text-align: right;\">\n",
       "      <th></th>\n",
       "      <th>articleID</th>\n",
       "      <th>text</th>\n",
       "      <th>Bing_Liu_Score</th>\n",
       "    </tr>\n",
       "  </thead>\n",
       "  <tbody>\n",
       "    <tr>\n",
       "      <th>840</th>\n",
       "      <td>58927e0495d0e0392607e1b3</td>\n",
       "      <td>N.F.L. vs. Politics Has Been Battle All Season...</td>\n",
       "      <td>0</td>\n",
       "    </tr>\n",
       "    <tr>\n",
       "      <th>841</th>\n",
       "      <td>5892849a95d0e0392607e1c5</td>\n",
       "      <td>Looking for Parking on the Upper West Side</td>\n",
       "      <td>0</td>\n",
       "    </tr>\n",
       "    <tr>\n",
       "      <th>842</th>\n",
       "      <td>58928f5195d0e0392607e1db</td>\n",
       "      <td>A Sinister Perception of Islam Now Steers the ...</td>\n",
       "      <td>-1</td>\n",
       "    </tr>\n",
       "    <tr>\n",
       "      <th>843</th>\n",
       "      <td>58928f7795d0e0392607e1dc</td>\n",
       "      <td>White House Inc.</td>\n",
       "      <td>0</td>\n",
       "    </tr>\n",
       "    <tr>\n",
       "      <th>844</th>\n",
       "      <td>5892a0d995d0e0392607e1fb</td>\n",
       "      <td>Trail Activity</td>\n",
       "      <td>0</td>\n",
       "    </tr>\n",
       "    <tr>\n",
       "      <th>845</th>\n",
       "      <td>5892e7bd95d0e0392607e281</td>\n",
       "      <td>Super Bowl</td>\n",
       "      <td>1</td>\n",
       "    </tr>\n",
       "    <tr>\n",
       "      <th>846</th>\n",
       "      <td>5892ec0795d0e0392607e28c</td>\n",
       "      <td>Trump’s Mexican Shakedown</td>\n",
       "      <td>1</td>\n",
       "    </tr>\n",
       "    <tr>\n",
       "      <th>847</th>\n",
       "      <td>5892ec0795d0e0392607e28f</td>\n",
       "      <td>Pence’s Presidential Pet</td>\n",
       "      <td>0</td>\n",
       "    </tr>\n",
       "    <tr>\n",
       "      <th>848</th>\n",
       "      <td>5892ec0795d0e0392607e28e</td>\n",
       "      <td>Fruit of a Poison Tree</td>\n",
       "      <td>-1</td>\n",
       "    </tr>\n",
       "    <tr>\n",
       "      <th>849</th>\n",
       "      <td>5892ec0795d0e0392607e28d</td>\n",
       "      <td>An Apology  to Muslims</td>\n",
       "      <td>0</td>\n",
       "    </tr>\n",
       "  </tbody>\n",
       "</table>\n",
       "</div>"
      ],
      "text/plain": [
       "                    articleID  \\\n",
       "840  58927e0495d0e0392607e1b3   \n",
       "841  5892849a95d0e0392607e1c5   \n",
       "842  58928f5195d0e0392607e1db   \n",
       "843  58928f7795d0e0392607e1dc   \n",
       "844  5892a0d995d0e0392607e1fb   \n",
       "845  5892e7bd95d0e0392607e281   \n",
       "846  5892ec0795d0e0392607e28c   \n",
       "847  5892ec0795d0e0392607e28f   \n",
       "848  5892ec0795d0e0392607e28e   \n",
       "849  5892ec0795d0e0392607e28d   \n",
       "\n",
       "                                                  text  Bing_Liu_Score  \n",
       "840  N.F.L. vs. Politics Has Been Battle All Season...               0  \n",
       "841         Looking for Parking on the Upper West Side               0  \n",
       "842  A Sinister Perception of Islam Now Steers the ...              -1  \n",
       "843                                   White House Inc.               0  \n",
       "844                                     Trail Activity               0  \n",
       "845                                         Super Bowl               1  \n",
       "846                          Trump’s Mexican Shakedown               1  \n",
       "847                           Pence’s Presidential Pet               0  \n",
       "848                             Fruit of a Poison Tree              -1  \n",
       "849                             An Apology  to Muslims               0  "
      ]
     },
     "execution_count": 15,
     "metadata": {},
     "output_type": "execute_result"
    }
   ],
   "source": [
    "#Previewing the sentiment analysis results for last 10 rows\n",
    "df[['articleID',\"text\", 'Bing_Liu_Score']].tail(10)"
   ]
  },
  {
   "cell_type": "markdown",
   "id": "cf4a8398-af4f-430a-9926-b7d8b49d3cc7",
   "metadata": {},
   "source": [
    "# **SentiWordNet:**"
   ]
  },
  {
   "cell_type": "markdown",
   "id": "aed1630c-787d-422e-9d03-14d82604dd68",
   "metadata": {},
   "source": [
    "## **Importing all Required Modules**"
   ]
  },
  {
   "cell_type": "code",
   "execution_count": 16,
   "id": "4cc1da58-d9b8-488e-bbb5-05d1fde28ba1",
   "metadata": {},
   "outputs": [],
   "source": [
    "import pandas as pd # Importing Pandas as pd\n",
    "from nltk.corpus import sentiwordnet as swn # IMporting Sentiwords\n",
    "from nltk.tokenize import word_tokenize # Importing WordTokenize\n",
    "from nltk.stem import WordNetLemmatizer # Inporting WordNetLemmatizer\n",
    "from nltk.corpus import stopwords\n",
    "import nltk\n",
    "import string"
   ]
  },
  {
   "cell_type": "markdown",
   "id": "19dc9b1a-9a5a-472c-8850-54330c4597fa",
   "metadata": {},
   "source": [
    "## **Loading the Data Set**"
   ]
  },
  {
   "cell_type": "code",
   "execution_count": 19,
   "id": "4cd7a285-88db-422b-866d-f9c9ef0366a1",
   "metadata": {},
   "outputs": [],
   "source": [
    "#Load the CSV file \n",
    "df = pd.read_csv('ArticlesJan2017.csv') # Loading the DataSet\n",
    "df.rename(columns={\"headline\": \"text\"}, inplace=True)"
   ]
  },
  {
   "cell_type": "markdown",
   "id": "eb8593a8-66d0-4f6b-9ea1-bf424ebfbadb",
   "metadata": {},
   "source": [
    "## **HANDLING MISSING VALUES**"
   ]
  },
  {
   "cell_type": "code",
   "execution_count": 20,
   "id": "63f7ef9f-6cd8-4b32-9a68-33bfb4fb60cd",
   "metadata": {},
   "outputs": [
    {
     "name": "stderr",
     "output_type": "stream",
     "text": [
      "C:\\Users\\srima\\AppData\\Local\\Temp\\ipykernel_12804\\2581164983.py:1: FutureWarning: A value is trying to be set on a copy of a DataFrame or Series through chained assignment using an inplace method.\n",
      "The behavior will change in pandas 3.0. This inplace method will never work because the intermediate object on which we are setting values always behaves as a copy.\n",
      "\n",
      "For example, when doing 'df[col].method(value, inplace=True)', try using 'df.method({col: value}, inplace=True)' or df[col] = df[col].method(value) instead, to perform the operation inplace on the original object.\n",
      "\n",
      "\n",
      "  df['text'].fillna('no review', inplace=True)\n"
     ]
    },
    {
     "data": {
      "text/plain": [
       "articleID             0\n",
       "abstract            810\n",
       "byline                0\n",
       "documentType          0\n",
       "text                  0\n",
       "keywords              0\n",
       "multimedia            0\n",
       "newDesk               0\n",
       "printPage             0\n",
       "pubDate               0\n",
       "sectionName           0\n",
       "snippet               0\n",
       "source                0\n",
       "typeOfMaterial        0\n",
       "webURL                0\n",
       "articleWordCount      0\n",
       "dtype: int64"
      ]
     },
     "execution_count": 20,
     "metadata": {},
     "output_type": "execute_result"
    }
   ],
   "source": [
    "df['text'].fillna('no review', inplace=True) #Checking for the missing data\n",
    "df.isna().sum()"
   ]
  },
  {
   "cell_type": "markdown",
   "id": "c8ec3b71-2043-4536-a8f6-6d1066359b59",
   "metadata": {},
   "source": [
    "## **Downloading the Necessary Resources**"
   ]
  },
  {
   "cell_type": "code",
   "execution_count": 21,
   "id": "c23b8626-93b5-420c-8f20-bc0db40cbaed",
   "metadata": {},
   "outputs": [
    {
     "name": "stderr",
     "output_type": "stream",
     "text": [
      "[nltk_data] Downloading package wordnet to\n",
      "[nltk_data]     C:\\Users\\srima\\AppData\\Roaming\\nltk_data...\n",
      "[nltk_data] Downloading package stopwords to\n",
      "[nltk_data]     C:\\Users\\srima\\AppData\\Roaming\\nltk_data...\n",
      "[nltk_data]   Package stopwords is already up-to-date!\n",
      "[nltk_data] Downloading package sentiwordnet to\n",
      "[nltk_data]     C:\\Users\\srima\\AppData\\Roaming\\nltk_data...\n",
      "[nltk_data]   Unzipping corpora\\sentiwordnet.zip.\n"
     ]
    },
    {
     "data": {
      "text/plain": [
       "True"
      ]
     },
     "execution_count": 21,
     "metadata": {},
     "output_type": "execute_result"
    }
   ],
   "source": [
    "nltk.download('wordnet') # Downloading the Required Resources\n",
    "nltk.download('stopwords')\n",
    "nltk.download('sentiwordnet')"
   ]
  },
  {
   "cell_type": "markdown",
   "id": "5bb654ed-f365-40af-8e8e-cf9a23af262f",
   "metadata": {},
   "source": [
    "## **Initialize lemmatizer and stopwords**"
   ]
  },
  {
   "cell_type": "code",
   "execution_count": 22,
   "id": "16ecc5d6-b7e3-4efa-9e4e-c3741cf558ea",
   "metadata": {},
   "outputs": [],
   "source": [
    "lemmatizer = WordNetLemmatizer()\n",
    "stop_words = set(stopwords.words('english')) # Initializing Stop Words"
   ]
  },
  {
   "cell_type": "code",
   "execution_count": 23,
   "id": "02a5047b-bfe0-452f-90c4-d83c6f31dfc7",
   "metadata": {},
   "outputs": [],
   "source": [
    "def get_sentiment(word):\n",
    "    \"\"\"Function to get the sentiment score of a word\"\"\"\n",
    "                                    # Initialize positive and negative scores\n",
    "    pos_score = 0\n",
    "    neg_score = 0\n",
    "\n",
    "    # Get synsets of the word\n",
    "    synsets = list(swn.senti_synsets(word))\n",
    "\n",
    "                                       # Calculate total positive and negative scores for all synsets\n",
    "    for syn in synsets:\n",
    "        pos_score += syn.pos_score()\n",
    "        neg_score += syn.neg_score()\n",
    "\n",
    "                                          # Return the average score\n",
    "    if len(synsets) > 0:\n",
    "        return (pos_score - neg_score) / len(synsets)\n",
    "    else:\n",
    "        return 0"
   ]
  },
  {
   "cell_type": "code",
   "execution_count": 24,
   "id": "0bb582c8-58fe-4380-b1b5-7599bca5cd21",
   "metadata": {},
   "outputs": [],
   "source": [
    "def sentiment_analysis(text):\n",
    "    \"\"\"Function to perform sentiment analysis on a text\"\"\"\n",
    "                                                # Tokenize text\n",
    "    words = word_tokenize(text.lower())\n",
    "                                                # Remove punctuation and stop words\n",
    "    words = [word for word in words if word.isalnum() and word not in string.punctuation and word not in stop_words]\n",
    "                                                # Lemmatize words\n",
    "    words = [lemmatizer.lemmatize(word) for word in words]\n",
    "                                                # Get sentiment scores of words\n",
    "    word_sentiments = [get_sentiment(word) for word in words]\n",
    "                                                # Calculate overall sentiment score of the text\n",
    "    if len(word_sentiments) > 0:\n",
    "        overall_sentiment = sum(word_sentiments) / len(word_sentiments)\n",
    "    else:\n",
    "        overall_sentiment = 0\n",
    "                                                 # Determine sentiment label\n",
    "    if overall_sentiment > 0:\n",
    "        return \"Positive\"\n",
    "    elif overall_sentiment < 0:\n",
    "        return \"Negative\"\n",
    "    else:\n",
    "        return \"Neutral\""
   ]
  },
  {
   "cell_type": "markdown",
   "id": "344a1c16-9d01-4742-a600-2ca23fa5b1a9",
   "metadata": {},
   "source": [
    "## **SENTIMENT ANALYSIS**"
   ]
  },
  {
   "cell_type": "code",
   "execution_count": 25,
   "id": "94a1280b-90a3-4019-92ea-4aae0e462ab6",
   "metadata": {},
   "outputs": [],
   "source": [
    "#Apply sentiment analysis to each row of the DataFrame\n",
    "df['sentiment'] = df['text'].apply(sentiment_analysis)"
   ]
  },
  {
   "cell_type": "markdown",
   "id": "6e5ca745-846a-445a-aa97-f625d725e0a7",
   "metadata": {},
   "source": [
    "## **sentiment analysis results for the top 10 rows**"
   ]
  },
  {
   "cell_type": "code",
   "execution_count": 26,
   "id": "c4302d27-d118-4654-8b7c-cc278647aabb",
   "metadata": {},
   "outputs": [
    {
     "data": {
      "text/html": [
       "<div>\n",
       "<style scoped>\n",
       "    .dataframe tbody tr th:only-of-type {\n",
       "        vertical-align: middle;\n",
       "    }\n",
       "\n",
       "    .dataframe tbody tr th {\n",
       "        vertical-align: top;\n",
       "    }\n",
       "\n",
       "    .dataframe thead th {\n",
       "        text-align: right;\n",
       "    }\n",
       "</style>\n",
       "<table border=\"1\" class=\"dataframe\">\n",
       "  <thead>\n",
       "    <tr style=\"text-align: right;\">\n",
       "      <th></th>\n",
       "      <th>articleID</th>\n",
       "      <th>text</th>\n",
       "      <th>sentiment</th>\n",
       "    </tr>\n",
       "  </thead>\n",
       "  <tbody>\n",
       "    <tr>\n",
       "      <th>0</th>\n",
       "      <td>58691a5795d0e039260788b9</td>\n",
       "      <td>G.O.P. Leadership Poised to Topple Obama’s Pi...</td>\n",
       "      <td>Negative</td>\n",
       "    </tr>\n",
       "    <tr>\n",
       "      <th>1</th>\n",
       "      <td>586967bf95d0e03926078915</td>\n",
       "      <td>Fractured World Tested the Hope of a Young Pre...</td>\n",
       "      <td>Positive</td>\n",
       "    </tr>\n",
       "    <tr>\n",
       "      <th>2</th>\n",
       "      <td>58698a1095d0e0392607894a</td>\n",
       "      <td>Little Troublemakers</td>\n",
       "      <td>Negative</td>\n",
       "    </tr>\n",
       "    <tr>\n",
       "      <th>3</th>\n",
       "      <td>5869911a95d0e0392607894e</td>\n",
       "      <td>Angela Merkel, Russia’s Next Target</td>\n",
       "      <td>Negative</td>\n",
       "    </tr>\n",
       "    <tr>\n",
       "      <th>4</th>\n",
       "      <td>5869a61795d0e03926078962</td>\n",
       "      <td>Boots for a Stranger on a Bus</td>\n",
       "      <td>Negative</td>\n",
       "    </tr>\n",
       "    <tr>\n",
       "      <th>5</th>\n",
       "      <td>5869afd495d0e0392607896c</td>\n",
       "      <td>Molder of Navajo Youth, Where a Game Is Sacred</td>\n",
       "      <td>Positive</td>\n",
       "    </tr>\n",
       "    <tr>\n",
       "      <th>6</th>\n",
       "      <td>5869d08f95d0e03926078980</td>\n",
       "      <td>‘The Affair’ Season 3, Episode 6: Noah Goes Home</td>\n",
       "      <td>Positive</td>\n",
       "    </tr>\n",
       "    <tr>\n",
       "      <th>7</th>\n",
       "      <td>586a0d8795d0e039260789b3</td>\n",
       "      <td>Sprint and Mr. Trump’s Fictional Jobs</td>\n",
       "      <td>Negative</td>\n",
       "    </tr>\n",
       "    <tr>\n",
       "      <th>8</th>\n",
       "      <td>586a0d8795d0e039260789b6</td>\n",
       "      <td>America  Becomes a Stan</td>\n",
       "      <td>Positive</td>\n",
       "    </tr>\n",
       "    <tr>\n",
       "      <th>9</th>\n",
       "      <td>586a32f495d0e039260789f3</td>\n",
       "      <td>Fighting Diabetes, and Leading by Example</td>\n",
       "      <td>Positive</td>\n",
       "    </tr>\n",
       "  </tbody>\n",
       "</table>\n",
       "</div>"
      ],
      "text/plain": [
       "                  articleID  \\\n",
       "0  58691a5795d0e039260788b9   \n",
       "1  586967bf95d0e03926078915   \n",
       "2  58698a1095d0e0392607894a   \n",
       "3  5869911a95d0e0392607894e   \n",
       "4  5869a61795d0e03926078962   \n",
       "5  5869afd495d0e0392607896c   \n",
       "6  5869d08f95d0e03926078980   \n",
       "7  586a0d8795d0e039260789b3   \n",
       "8  586a0d8795d0e039260789b6   \n",
       "9  586a32f495d0e039260789f3   \n",
       "\n",
       "                                                text sentiment  \n",
       "0   G.O.P. Leadership Poised to Topple Obama’s Pi...  Negative  \n",
       "1  Fractured World Tested the Hope of a Young Pre...  Positive  \n",
       "2                               Little Troublemakers  Negative  \n",
       "3                Angela Merkel, Russia’s Next Target  Negative  \n",
       "4                      Boots for a Stranger on a Bus  Negative  \n",
       "5     Molder of Navajo Youth, Where a Game Is Sacred  Positive  \n",
       "6   ‘The Affair’ Season 3, Episode 6: Noah Goes Home  Positive  \n",
       "7              Sprint and Mr. Trump’s Fictional Jobs  Negative  \n",
       "8                            America  Becomes a Stan  Positive  \n",
       "9          Fighting Diabetes, and Leading by Example  Positive  "
      ]
     },
     "execution_count": 26,
     "metadata": {},
     "output_type": "execute_result"
    }
   ],
   "source": [
    "#Previewing the sentiment analysis results for the top 10 rows\n",
    "df[['articleID', 'text', 'sentiment']].head(10)"
   ]
  },
  {
   "cell_type": "markdown",
   "id": "0207b732-391d-478d-b14c-809fe2723be3",
   "metadata": {},
   "source": [
    "# **MPQA lexicon**"
   ]
  },
  {
   "cell_type": "markdown",
   "id": "2304999d-d05e-47f2-8a02-def44660774e",
   "metadata": {},
   "source": [
    "## **IMPORTING THE REQUIRED MODULES**"
   ]
  },
  {
   "cell_type": "code",
   "execution_count": 27,
   "id": "86e0c79b-da07-41d1-bd6f-cdde6950500f",
   "metadata": {},
   "outputs": [],
   "source": [
    "import pandas as pd #Importing Pandas as Pd\n",
    "import nltk\n",
    "from nltk.corpus import opinion_lexicon"
   ]
  },
  {
   "cell_type": "markdown",
   "id": "63fa368c-5988-407f-94db-82d42bef4640",
   "metadata": {},
   "source": [
    "## **DOWNLOAD THE MPQA LEXICON**"
   ]
  },
  {
   "cell_type": "code",
   "execution_count": 28,
   "id": "eecf9e02-90ed-4572-b8e7-f9c22f9a24a5",
   "metadata": {},
   "outputs": [
    {
     "name": "stderr",
     "output_type": "stream",
     "text": [
      "[nltk_data] Downloading package opinion_lexicon to\n",
      "[nltk_data]     C:\\Users\\srima\\AppData\\Roaming\\nltk_data...\n",
      "[nltk_data]   Package opinion_lexicon is already up-to-date!\n"
     ]
    },
    {
     "data": {
      "text/plain": [
       "True"
      ]
     },
     "execution_count": 28,
     "metadata": {},
     "output_type": "execute_result"
    }
   ],
   "source": [
    "#Download the MPQA lexicon\n",
    "nltk.download('opinion_lexicon')"
   ]
  },
  {
   "cell_type": "markdown",
   "id": "7c0381de-86bd-4c6a-b16e-6986ef4e026c",
   "metadata": {},
   "source": [
    "## **LOADING POSITIVE AND NEGATIVE WORDS**"
   ]
  },
  {
   "cell_type": "code",
   "execution_count": 29,
   "id": "6398677c-ff0e-4194-8cdb-cc0e0a225c56",
   "metadata": {},
   "outputs": [],
   "source": [
    "#Load the positive and negative words from the MPQA lexicon\n",
    "positive_words = set(opinion_lexicon.positive())\n",
    "negative_words = set(opinion_lexicon.negative())"
   ]
  },
  {
   "cell_type": "code",
   "execution_count": 30,
   "id": "003a21ba-f562-447c-994a-bf149ca24cf4",
   "metadata": {},
   "outputs": [],
   "source": [
    "## **FUNCTION TO PERFORM SENTIMENT ANALYSIS**"
   ]
  },
  {
   "cell_type": "code",
   "execution_count": 31,
   "id": "10d92fb5-0262-4c8e-ac2e-6931d097584c",
   "metadata": {},
   "outputs": [],
   "source": [
    "#Define a function to perform sentiment analysis on a text\n",
    "def sentiment_analysis(text):\n",
    "    # Tokenize the input text into words\n",
    "    words = nltk.word_tokenize(text)\n",
    "\n",
    "    # Initialize counters for positive and negative sentiment\n",
    "    num_positive = 0\n",
    "    num_negative = 0\n",
    "# Iterate through each word in the text\n",
    "    for word in words:\n",
    "        # Check if the word is in the positive or negative word sets\n",
    "        if word in positive_words:\n",
    "            num_positive += 1\n",
    "        elif word in negative_words:\n",
    "            num_negative += 1\n",
    "\n",
    "                # Determine overall sentiment based on the counts\n",
    "        if num_positive > num_negative:\n",
    "            return \"Positive\"\n",
    "        elif num_positive < num_negative:\n",
    "            return \"Negative\"\n",
    "        else:\n",
    "            return \"Neutral\""
   ]
  },
  {
   "cell_type": "markdown",
   "id": "17f3025d-ddec-42ca-882c-1233cc67805e",
   "metadata": {},
   "source": [
    "## **SENTIMENT ANALYSIS**"
   ]
  },
  {
   "cell_type": "code",
   "execution_count": 32,
   "id": "ded8f50e-f52e-4914-9272-f2bc9c55dc34",
   "metadata": {},
   "outputs": [],
   "source": [
    "#Apply sentiment analysis to each row of the DataFrame\n",
    "df['sentiment'] = df['text'].apply(sentiment_analysis)"
   ]
  },
  {
   "cell_type": "markdown",
   "id": "e4f21a29-53f2-4dea-9446-66b9272448e8",
   "metadata": {},
   "source": [
    "## **SENTIMENT ANALYSIS RESULTS FOR THE TOP 10 ROWS**"
   ]
  },
  {
   "cell_type": "code",
   "execution_count": 33,
   "id": "bbfc4deb-d458-48f6-aba7-eb0a1f37f8ac",
   "metadata": {},
   "outputs": [
    {
     "data": {
      "text/html": [
       "<div>\n",
       "<style scoped>\n",
       "    .dataframe tbody tr th:only-of-type {\n",
       "        vertical-align: middle;\n",
       "    }\n",
       "\n",
       "    .dataframe tbody tr th {\n",
       "        vertical-align: top;\n",
       "    }\n",
       "\n",
       "    .dataframe thead th {\n",
       "        text-align: right;\n",
       "    }\n",
       "</style>\n",
       "<table border=\"1\" class=\"dataframe\">\n",
       "  <thead>\n",
       "    <tr style=\"text-align: right;\">\n",
       "      <th></th>\n",
       "      <th>articleID</th>\n",
       "      <th>text</th>\n",
       "      <th>sentiment</th>\n",
       "    </tr>\n",
       "  </thead>\n",
       "  <tbody>\n",
       "    <tr>\n",
       "      <th>0</th>\n",
       "      <td>58691a5795d0e039260788b9</td>\n",
       "      <td>G.O.P. Leadership Poised to Topple Obama’s Pi...</td>\n",
       "      <td>Neutral</td>\n",
       "    </tr>\n",
       "    <tr>\n",
       "      <th>1</th>\n",
       "      <td>586967bf95d0e03926078915</td>\n",
       "      <td>Fractured World Tested the Hope of a Young Pre...</td>\n",
       "      <td>Neutral</td>\n",
       "    </tr>\n",
       "    <tr>\n",
       "      <th>2</th>\n",
       "      <td>58698a1095d0e0392607894a</td>\n",
       "      <td>Little Troublemakers</td>\n",
       "      <td>Neutral</td>\n",
       "    </tr>\n",
       "    <tr>\n",
       "      <th>3</th>\n",
       "      <td>5869911a95d0e0392607894e</td>\n",
       "      <td>Angela Merkel, Russia’s Next Target</td>\n",
       "      <td>Neutral</td>\n",
       "    </tr>\n",
       "    <tr>\n",
       "      <th>4</th>\n",
       "      <td>5869a61795d0e03926078962</td>\n",
       "      <td>Boots for a Stranger on a Bus</td>\n",
       "      <td>Neutral</td>\n",
       "    </tr>\n",
       "    <tr>\n",
       "      <th>5</th>\n",
       "      <td>5869afd495d0e0392607896c</td>\n",
       "      <td>Molder of Navajo Youth, Where a Game Is Sacred</td>\n",
       "      <td>Neutral</td>\n",
       "    </tr>\n",
       "    <tr>\n",
       "      <th>6</th>\n",
       "      <td>5869d08f95d0e03926078980</td>\n",
       "      <td>‘The Affair’ Season 3, Episode 6: Noah Goes Home</td>\n",
       "      <td>Neutral</td>\n",
       "    </tr>\n",
       "    <tr>\n",
       "      <th>7</th>\n",
       "      <td>586a0d8795d0e039260789b3</td>\n",
       "      <td>Sprint and Mr. Trump’s Fictional Jobs</td>\n",
       "      <td>Neutral</td>\n",
       "    </tr>\n",
       "    <tr>\n",
       "      <th>8</th>\n",
       "      <td>586a0d8795d0e039260789b6</td>\n",
       "      <td>America  Becomes a Stan</td>\n",
       "      <td>Neutral</td>\n",
       "    </tr>\n",
       "    <tr>\n",
       "      <th>9</th>\n",
       "      <td>586a32f495d0e039260789f3</td>\n",
       "      <td>Fighting Diabetes, and Leading by Example</td>\n",
       "      <td>Neutral</td>\n",
       "    </tr>\n",
       "  </tbody>\n",
       "</table>\n",
       "</div>"
      ],
      "text/plain": [
       "                  articleID  \\\n",
       "0  58691a5795d0e039260788b9   \n",
       "1  586967bf95d0e03926078915   \n",
       "2  58698a1095d0e0392607894a   \n",
       "3  5869911a95d0e0392607894e   \n",
       "4  5869a61795d0e03926078962   \n",
       "5  5869afd495d0e0392607896c   \n",
       "6  5869d08f95d0e03926078980   \n",
       "7  586a0d8795d0e039260789b3   \n",
       "8  586a0d8795d0e039260789b6   \n",
       "9  586a32f495d0e039260789f3   \n",
       "\n",
       "                                                text sentiment  \n",
       "0   G.O.P. Leadership Poised to Topple Obama’s Pi...   Neutral  \n",
       "1  Fractured World Tested the Hope of a Young Pre...   Neutral  \n",
       "2                               Little Troublemakers   Neutral  \n",
       "3                Angela Merkel, Russia’s Next Target   Neutral  \n",
       "4                      Boots for a Stranger on a Bus   Neutral  \n",
       "5     Molder of Navajo Youth, Where a Game Is Sacred   Neutral  \n",
       "6   ‘The Affair’ Season 3, Episode 6: Noah Goes Home   Neutral  \n",
       "7              Sprint and Mr. Trump’s Fictional Jobs   Neutral  \n",
       "8                            America  Becomes a Stan   Neutral  \n",
       "9          Fighting Diabetes, and Leading by Example   Neutral  "
      ]
     },
     "execution_count": 33,
     "metadata": {},
     "output_type": "execute_result"
    }
   ],
   "source": [
    "#Previewing the sentiment analysis results for the top 10 rows\n",
    "df[['articleID', 'text', 'sentiment']].head(10)"
   ]
  }
 ],
 "metadata": {
  "kernelspec": {
   "display_name": "Python 3 (ipykernel)",
   "language": "python",
   "name": "python3"
  },
  "language_info": {
   "codemirror_mode": {
    "name": "ipython",
    "version": 3
   },
   "file_extension": ".py",
   "mimetype": "text/x-python",
   "name": "python",
   "nbconvert_exporter": "python",
   "pygments_lexer": "ipython3",
   "version": "3.12.1"
  }
 },
 "nbformat": 4,
 "nbformat_minor": 5
}
